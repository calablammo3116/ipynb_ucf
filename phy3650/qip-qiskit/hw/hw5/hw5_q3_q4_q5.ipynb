{
 "cells": [
  {
   "cell_type": "code",
   "execution_count": 37,
   "id": "c3463023-bb6b-4993-b8ae-c94f14d55d95",
   "metadata": {
    "editable": true,
    "slideshow": {
     "slide_type": ""
    },
    "tags": []
   },
   "outputs": [
    {
     "data": {
      "text/plain": [
       "<qiskit.circuit.instructionset.InstructionSet at 0x299a3cacc70>"
      ]
     },
     "execution_count": 37,
     "metadata": {},
     "output_type": "execute_result"
    }
   ],
   "source": [
    "### QUESTION 3 ###\n",
    "\n",
    "import numpy as np\n",
    "from qiskit import QuantumCircuit, transpile\n",
    "from qiskit_aer import Aer\n",
    "from qiskit.visualization import plot_histogram, plot_state_city\n",
    "\n",
    "# Create a quantum circuit with 4 qubits\n",
    "qc_qft = QuantumCircuit(4)\n",
    "\n",
    "## NOTE: at the end of all this, you will have to swap the order of the output qubits\n",
    "#        to get it into its original state vector ordering!\n",
    "\n",
    "### QUBIT 0 (technically represents Qubit 3, or Qubit 4 with base-1 indexing) ###\n",
    "# Apply a Hadamard gate to qubit 0\n",
    "qc_qft.h(0)\n",
    "\n",
    "#################################################################################\n",
    "# Apply the Controlled-Phase (or \"CP\") gates for qubit 0,\n",
    "# with it as the target qubit and qubits 1, 2, and then 3,\n",
    "# respectively, as the control qubits, in that order, applying\n",
    "# a phase of:\n",
    "#    ( 1   0                                   )\n",
    "#    ( 0   e^(2*pi*i*2^(-<base-1 qubit number distance away>))\n",
    "# to it. ########################################################################\n",
    "# In the \"QuantumCircuit.cp()\" function, the first argument is THETA (the degree\n",
    "# of rotation), the second argument is the CONTROL qubit, and the third argument\n",
    "# is the TARGET qubit.\n",
    "#################################################################################\n",
    "qc_qft.cp(np.pi/2, 1, 0) #note that we use pi/2 here, even though it is technically: 2*pi*(2^-2), because that is simpler and requires fewer computations for the computer\n",
    "qc_qft.cp(np.pi/4, 2, 0) #note that we use pi/4 here, even though it is technically: 2*pi*(2^-3), because that is simpler and requires fewer computations for the computer\n",
    "qc_qft.cp(np.pi/8, 3, 0) #note that we use pi/8 here, even though it is technically: 2*pi*(2^-4), because that is simpler and requires fewer computations for the computer\n",
    "\n",
    "### QUBIT 1 (technically represents State 2, or Qubit 3 with base-1 indexing) ###\n",
    "# Apply a Hadamard gate to qubit 1\n",
    "qc_qft.h(1)\n",
    "\n",
    "# Apply the Controlled-Phase (or \"CP\") gates for qubit 1, with it as the target qubit\n",
    "# and qubits 2 and then 3, respectively, as the control qubits, in that order\n",
    "qc_qft.cp(np.pi/2, 2, 1)\n",
    "qc_qft.cp(np.pi/4, 3, 1)\n",
    "\n",
    "### QUBIT 2 (technically represents State 1, or Qubit 2 with base-1 indexing) ###\n",
    "# Apply a Hadamard gate to qubit 2\n",
    "qc_qft.h(2)\n",
    "\n",
    "# Apply the Controlled-Phase (or \"CP\") gates for qubit 2, with it as the target qubit\n",
    "# and qubit 3 as the control qubit\n",
    "qc_qft.cp(np.pi/2, 3, 2)\n",
    "\n",
    "### QUBIT 3 (technically represents State 0, or Qubit 1 with base-1 indexing) ###\n",
    "# Apply a Hadamard gate to qubit 1\n",
    "qc_qft.h(3)\n",
    "\n",
    "## NOW, that \"NOTE\" from earlier comes into play - SWAP the qubits' order to get the\n",
    "#  state vector back into its true ordering from top-to-bottom on the circuit! (i.e.,\n",
    "#  |psi_1 psi_2 psi_3 ... psi_n> with the circuit channel lines read from top-to-bottom\n",
    "#  instead of |psi_n psi_(n-1) psi_(n-2) ... psi_1>, since the latter is what we have it\n",
    "#  in right now...)\n",
    "qc_qft.swap(0, 3) # SWAP the first and fourth qubits\n",
    "qc_qft.swap(1, 2) # SWAP the second and third qubits"
   ]
  },
  {
   "cell_type": "code",
   "execution_count": 38,
   "id": "b78cb9b3-038f-44e3-a0ca-3344705e9d57",
   "metadata": {},
   "outputs": [
    {
     "name": "stdout",
     "output_type": "stream",
     "text": [
      "     ┌───┐                                                                     »\n",
      "q_0: ┤ H ├─■────────■─────────────■────────────────────────────────────────────»\n",
      "     └───┘ │P(π/2)  │       ┌───┐ │                                            »\n",
      "q_1: ──────■────────┼───────┤ H ├─┼────────■────────■───────────────────────X──»\n",
      "                    │P(π/4) └───┘ │        │P(π/2)  │       ┌───┐           │  »\n",
      "q_2: ───────────────■─────────────┼────────■────────┼───────┤ H ├─■─────────X──»\n",
      "                                  │P(π/8)           │P(π/4) └───┘ │P(π/2) ┌───┐»\n",
      "q_3: ─────────────────────────────■─────────────────■─────────────■───────┤ H ├»\n",
      "                                                                          └───┘»\n",
      "«        \n",
      "«q_0: ─X─\n",
      "«      │ \n",
      "«q_1: ─┼─\n",
      "«      │ \n",
      "«q_2: ─┼─\n",
      "«      │ \n",
      "«q_3: ─X─\n",
      "«        \n"
     ]
    }
   ],
   "source": [
    "# Draw the circuit\n",
    "print(qc_qft.draw())"
   ]
  },
  {
   "cell_type": "code",
   "execution_count": 39,
   "id": "ddf5894c-793f-422a-9d97-2a48c577c3e0",
   "metadata": {
    "editable": true,
    "slideshow": {
     "slide_type": ""
    },
    "tags": []
   },
   "outputs": [
    {
     "name": "stdout",
     "output_type": "stream",
     "text": [
      "Statevector([1.+0.j, 0.+0.j, 0.+0.j, 0.+0.j, 0.+0.j, 0.+0.j, 0.+0.j,\n",
      "             0.+0.j, 0.+0.j, 0.+0.j, 0.+0.j, 0.+0.j, 0.+0.j, 0.+0.j,\n",
      "             0.+0.j, 0.+0.j],\n",
      "            dims=(2, 2, 2, 2))\n"
     ]
    }
   ],
   "source": [
    "### State Vector Simulation of Q3:\n",
    "from qiskit.quantum_info import Statevector\n",
    "state_vec = Statevector.from_label('0000')\n",
    "print(state_vec)"
   ]
  },
  {
   "cell_type": "code",
   "execution_count": 40,
   "id": "e8558ab7-39f3-4f9f-b98f-45a472f5adf3",
   "metadata": {
    "editable": true,
    "slideshow": {
     "slide_type": ""
    },
    "tags": []
   },
   "outputs": [
    {
     "name": "stdout",
     "output_type": "stream",
     "text": [
      "Statevector([0.25+0.j, 0.25+0.j, 0.25+0.j, 0.25+0.j, 0.25+0.j, 0.25+0.j,\n",
      "             0.25+0.j, 0.25+0.j, 0.25+0.j, 0.25+0.j, 0.25+0.j, 0.25+0.j,\n",
      "             0.25+0.j, 0.25+0.j, 0.25+0.j, 0.25+0.j],\n",
      "            dims=(2, 2, 2, 2))\n"
     ]
    }
   ],
   "source": [
    "new_state_vec = state_vec\n",
    "new_state_vec = new_state_vec.evolve(qc_qft)\n",
    "print(new_state_vec)"
   ]
  },
  {
   "cell_type": "code",
   "execution_count": 41,
   "id": "cf0ce9f2-375c-4efe-8ae3-15e4ae7da141",
   "metadata": {},
   "outputs": [],
   "source": [
    "# Simulate the QFT circuit\n",
    "simulator = Aer.get_backend(\"qasm_simulator\")\n",
    "\n",
    "# Measure every qubit in the circuit\n",
    "qc_qft.measure_all()\n",
    "\n",
    "# Compile (or I guess \"transpile\") the circuit for the circuit-running simulator\n",
    "transpiled_qft_qc = transpile(qc_qft, simulator)\n",
    "sim_result = simulator.run(transpiled_qft_qc).result()"
   ]
  },
  {
   "cell_type": "code",
   "execution_count": 42,
   "id": "1fca3259-bc11-4a2d-81bc-cfdedf32f235",
   "metadata": {},
   "outputs": [
    {
     "name": "stdout",
     "output_type": "stream",
     "text": [
      "{'1010': 63, '0001': 64, '0100': 57, '0111': 64, '1111': 67, '0000': 62, '1011': 76, '0010': 69, '1110': 73, '0011': 66, '1100': 75, '1001': 67, '0101': 59, '1000': 55, '1101': 57, '0110': 50}\n"
     ]
    },
    {
     "data": {
      "image/png": "[encoded data removed]",
      "text/plain": [
       "<Figure size 700x500 with 1 Axes>"
      ]
     },
     "execution_count": 42,
     "metadata": {},
     "output_type": "execute_result"
    }
   ],
   "source": [
    "# Plot the results\n",
    "state_counts = sim_result.get_counts(qc_qft)\n",
    "print(state_counts)\n",
    "plot_histogram(state_counts, title=\"Quantum Fourier Transform: State Count\")"
   ]
  },
  {
   "cell_type": "code",
   "execution_count": null,
   "id": "90e67035-36bd-4eff-8fed-e3b3410b2889",
   "metadata": {
    "editable": true,
    "slideshow": {
     "slide_type": ""
    },
    "tags": []
   },
   "outputs": [],
   "source": [
    "\"\"\"\n",
    "-------Q3 'Ordered List of Gates'-------\n",
    "Gate List:\n",
    "CP = 'Controlled Phase' -> 1s along the diagonal from top left to\n",
    "                            bottom right until you get to the very bottom\n",
    "                            right, and there instead is an\n",
    "                            e to the i*theta = 2pi*i*2^(-something), \n",
    "                            and then 0s everywhere else;\n",
    "                            is a 4x4 operator.\n",
    "SWAP = swap gate, matrix representation is:\n",
    "                    ( 1 0 0 0 )\n",
    "                    ( 0 0 0 1 )\n",
    "                    ( 0 0 0 1 )\n",
    "                    ( 0 0 1 0 ).\n",
    "H = Hadamard gate, matrix representation is:\n",
    "                    ( 1/sqrt(2) 1/sqrt(2)  )\n",
    "                    ( 1/sqrt(2) -1/sqrt(2) )\n",
    ".\n",
    "\n",
    "In order, the gates applied are:\n",
    "On qubit 1 (technically qubit for state 4, but placed on top for convenience):\n",
    "H -> \n",
    "CP with theta = pi/2, i.e. k = 2 (basically an S gate) ->\n",
    "CP with theta = pi/4, i.e. k = 3 (basically a T gate) ->\n",
    "CP with theta = pi/8, i.e. k = 4.\n",
    "Then, gates are applied on qubit 2 (technically qubit for state 3):\n",
    "H ->\n",
    "CP with theta = pi/2, i.e. k = 2 (basically an S gate) ->\n",
    "CP with theta = pi/4, i.e. k = 3 (basically a T gate).\n",
    "Then, gates are applied on qubit 3 (technically qubit for state 2):\n",
    "H ->\n",
    "CP with theta = pi/2, i.e. k = 2 (basically an S gate).\n",
    "Then, a gate is applied on qubit 4 (technically qubit for state 1):\n",
    "just an H.\n",
    "Then, on qubits 1 and 4, a SWAP gate is applied between them, switching each qubit's\n",
    "individual state. Then, a similar thing is done, just with qubits 2 and 3 this time.\n",
    "(The order of these last two steps does not really matter, you can SWAP qubits 1 and 4\n",
    "before 2 and 3 or vice versa.)\n",
    "\"\"\""
   ]
  },
  {
   "cell_type": "code",
   "execution_count": null,
   "id": "784d6c1b-cc56-4aee-81a2-7c631752ef3a",
   "metadata": {},
   "outputs": [],
   "source": [
    "\"\"\"\n",
    "NOTE About the Fourier Basis:\n",
    "The quantum Fourier transform, or QFT, takes an input set of qubits, i.e. an input state\n",
    "vector, usually in the typical qubit state basis composed of |0>s and |1>s, then outputs\n",
    "the state measurements instead as AMPLITUDE measurements, so that one can obtain the\n",
    "periods from the output amplitudes.\n",
    "These amplitudes exist on the Fourier quantum orthogonal basis, which for one qubit is:\n",
    "{ |+>, |-> }\n",
    "otherwise known as the state vectors that result from a single Hadamard gate applied to\n",
    "the typical one-qubit orthogonal basis vectors |0> and |1>, respectively.\n",
    "Thus, while a |0> on the Bloch sphere is denoted by an arrow pointing up to the top of\n",
    "the Bloch sphere and a |1> down respectively, the |+> and |-> (i.e. the Fourier basis\n",
    "versions of these typical one-qubit basis vectors) point directly in the directions of\n",
    "the positive x and negative x solely along the x axis, respectively. Each variation of\n",
    "input state and each additional qubit in the QFT affects the amount to which the output\n",
    "Fourier basis vector has its phase shifted (i.e. rotated) about the z axis.\n",
    "With four qubits, the typical phase shift (i.e. rotation) about the z axis is as follows:\n",
    "qubit 0: 30 degrees; pi/6 rads\n",
    "qubit 1: 45 degrees; pi/4 rads\n",
    "qubit 2: 90 degrees; pi/2 rads\n",
    "qubit 3: 180 degrees; pi rads\n",
    "as you go down from left-to-right along the basis vectors for the typical four-qubit\n",
    "orthonormal basis ({ |0000>, |0001>, ... , |1111> }).\n",
    "\n",
    "Therefore, the measurements observed above for the four-qubit QFT are seemingly normal\n",
    "given that the output qubits when measured are expected to be in superpositions due to\n",
    "the Hadamard gates and entanglement due to the Controlled-Phase, or CP, gates. Each\n",
    "output state has a relatively similar amount of measured qubits relative to any given\n",
    "other output state, which is what one would expect from a superposition being applied to\n",
    "each qubit and then each qubit being entangled with each other qubit.\n",
    "\n",
    "Sources:\n",
    "- https://www.youtube.com/watch?v=mAHC1dWKNYE\n",
    "- https://docs.quantum.ibm.com/api/qiskit/qiskit.circuit.library.QFT#layout\n",
    "- https://quantumcomputing.stackexchange.com/questions/26329/why-do-we-need-to-reverse-the-order-of-qubits-in-quantum-fourier-transform\n",
    "- https://quantumcomputing.stackexchange.com/questions/6399/quantum-fourier-transform-without-swaps\n",
    "- https://github.com/Qiskit/textbook/blob/main/notebooks/ch-algorithms/quantum-fourier-transform.ipynb\n",
    "\"\"\""
   ]
  },
  {
   "cell_type": "code",
   "execution_count": 5,
   "id": "df68b83e-b1ae-4606-892b-be50b1ee596f",
   "metadata": {},
   "outputs": [
    {
     "data": {
      "text/plain": [
       "'\\nTest to make sure I made the QFT circuit correctly:\\n'"
      ]
     },
     "execution_count": 5,
     "metadata": {},
     "output_type": "execute_result"
    }
   ],
   "source": [
    "\"\"\"\n",
    "Test to make sure I made the QFT circuit correctly:\n",
    "\"\"\"\n",
    "# import qiskit\n",
    "\n",
    "# true_qft_qc = qiskit.circuit.library.QFT(\n",
    "#     num_qubits=4, \n",
    "#     approximation_degree=0, \n",
    "#     do_swaps=True, \n",
    "#     inverse=False, \n",
    "#     insert_barriers=False, \n",
    "#     name=\"True correct QFT\"\n",
    "# )\n",
    "\n",
    "# print(true_qft_qc.draw())\n",
    "\n",
    "### END QUESTION 3 ###"
   ]
  },
  {
   "cell_type": "code",
   "execution_count": 79,
   "id": "7a17fb1e-e8d3-4dc2-ab45-b3ec3496e490",
   "metadata": {},
   "outputs": [
    {
     "data": {
      "text/plain": [
       "<qiskit.circuit.instructionset.InstructionSet at 0x299a46fd160>"
      ]
     },
     "execution_count": 79,
     "metadata": {},
     "output_type": "execute_result"
    }
   ],
   "source": [
    "### QUESTION 4 ###\n",
    "\n",
    "qc_qft_inv = QuantumCircuit(4)\n",
    "\n",
    "# Just a QFT circuit in reverse\n",
    "qc_qft_inv.swap(1, 2)\n",
    "qc_qft_inv.swap(0, 3)\n",
    "qc_qft_inv.h(3)\n",
    "qc_qft_inv.cp(-np.pi/2, 3, 2)\n",
    "qc_qft_inv.h(2)\n",
    "qc_qft_inv.cp(-np.pi/4, 3, 1)\n",
    "qc_qft_inv.cp(-np.pi/2, 2, 1)\n",
    "qc_qft_inv.h(1)\n",
    "qc_qft_inv.cp(-np.pi/8, 3, 0)\n",
    "qc_qft_inv.cp(-np.pi/4, 2, 0)\n",
    "qc_qft_inv.cp(-np.pi/2, 1, 0)\n",
    "qc_qft_inv.h(0)"
   ]
  },
  {
   "cell_type": "code",
   "execution_count": 80,
   "id": "7d00a38f-b7fa-4818-87a7-e1c4aeea5ab2",
   "metadata": {},
   "outputs": [
    {
     "data": {
      "text/html": [
       "<pre style=\"word-wrap: normal;white-space: pre;background: #fff0;line-height: 1.1;font-family: &quot;Courier New&quot;,Courier,monospace\">                                                                            »\n",
       "q_0: ────X──────────────────────────────────────────■──────────────■────────»\n",
       "         │                                          │        ┌───┐ │        »\n",
       "q_1: ─X──┼──────────────────────■─────────■─────────┼────────┤ H ├─┼────────»\n",
       "      │  │                ┌───┐ │         │P(-π/2)  │        └───┘ │P(-π/4) »\n",
       "q_2: ─X──┼───────■────────┤ H ├─┼─────────■─────────┼──────────────■────────»\n",
       "         │ ┌───┐ │P(-π/2) └───┘ │P(-π/4)            │P(-π/8)                »\n",
       "q_3: ────X─┤ H ├─■──────────────■───────────────────■───────────────────────»\n",
       "           └───┘                                                            »\n",
       "«               ┌───┐\n",
       "«q_0: ─■────────┤ H ├\n",
       "«      │P(-π/2) └───┘\n",
       "«q_1: ─■─────────────\n",
       "«                    \n",
       "«q_2: ───────────────\n",
       "«                    \n",
       "«q_3: ───────────────\n",
       "«                    </pre>"
      ],
      "text/plain": [
       "                                                                            »\n",
       "q_0: ────X──────────────────────────────────────────■──────────────■────────»\n",
       "         │                                          │        ┌───┐ │        »\n",
       "q_1: ─X──┼──────────────────────■─────────■─────────┼────────┤ H ├─┼────────»\n",
       "      │  │                ┌───┐ │         │P(-π/2)  │        └───┘ │P(-π/4) »\n",
       "q_2: ─X──┼───────■────────┤ H ├─┼─────────■─────────┼──────────────■────────»\n",
       "         │ ┌───┐ │P(-π/2) └───┘ │P(-π/4)            │P(-π/8)                »\n",
       "q_3: ────X─┤ H ├─■──────────────■───────────────────■───────────────────────»\n",
       "           └───┘                                                            »\n",
       "«               ┌───┐\n",
       "«q_0: ─■────────┤ H ├\n",
       "«      │P(-π/2) └───┘\n",
       "«q_1: ─■─────────────\n",
       "«                    \n",
       "«q_2: ───────────────\n",
       "«                    \n",
       "«q_3: ───────────────\n",
       "«                    "
      ]
     },
     "execution_count": 80,
     "metadata": {},
     "output_type": "execute_result"
    }
   ],
   "source": [
    "qc_qft_inv.draw()"
   ]
  },
  {
   "cell_type": "code",
   "execution_count": 81,
   "id": "95544feb-9e1c-445d-8178-4c2d7ca5afbc",
   "metadata": {},
   "outputs": [
    {
     "name": "stdout",
     "output_type": "stream",
     "text": [
      "Statevector([1.+0.j, 0.+0.j, 0.+0.j, 0.+0.j, 0.+0.j, 0.+0.j, 0.+0.j,\n",
      "             0.+0.j, 0.+0.j, 0.+0.j, 0.+0.j, 0.+0.j, 0.+0.j, 0.+0.j,\n",
      "             0.+0.j, 0.+0.j],\n",
      "            dims=(2, 2, 2, 2))\n"
     ]
    }
   ],
   "source": [
    "### State Vector Simulation of Q4:\n",
    "from qiskit.quantum_info import Statevector\n",
    "state_vec = Statevector.from_label('0000')\n",
    "#state_vec = new_state_vec    #Just playing around\n",
    "print(state_vec)"
   ]
  },
  {
   "cell_type": "code",
   "execution_count": 82,
   "id": "9da2704b-82e6-4693-876e-ca01b5158f9d",
   "metadata": {},
   "outputs": [
    {
     "name": "stdout",
     "output_type": "stream",
     "text": [
      "Statevector([0.25+0.j, 0.25+0.j, 0.25+0.j, 0.25+0.j, 0.25+0.j, 0.25+0.j,\n",
      "             0.25+0.j, 0.25+0.j, 0.25+0.j, 0.25+0.j, 0.25+0.j, 0.25+0.j,\n",
      "             0.25+0.j, 0.25+0.j, 0.25+0.j, 0.25+0.j],\n",
      "            dims=(2, 2, 2, 2))\n"
     ]
    }
   ],
   "source": [
    "new_state_vec = state_vec\n",
    "new_state_vec = new_state_vec.evolve(qc_qft_inv)\n",
    "print(new_state_vec)"
   ]
  },
  {
   "cell_type": "code",
   "execution_count": 83,
   "id": "3b12e5a9-9abf-4162-bdf7-1b58b3b46aa3",
   "metadata": {},
   "outputs": [],
   "source": [
    "# Simulate the QFT circuit\n",
    "simulator = Aer.get_backend(\"qasm_simulator\")\n",
    "\n",
    "# Measure every qubit in the circuit\n",
    "qc_qft_inv.measure_all()\n",
    "\n",
    "# Compile (or I guess \"transpile\") the circuit for the circuit-running simulator\n",
    "transpiled_qc_qft_inv = transpile(qc_qft_inv, simulator)\n",
    "sim_result = simulator.run(transpiled_qc_qft_inv).result()"
   ]
  },
  {
   "cell_type": "code",
   "execution_count": 84,
   "id": "26dd075c-ed85-4218-bb99-abc203edf6e0",
   "metadata": {},
   "outputs": [
    {
     "name": "stdout",
     "output_type": "stream",
     "text": [
      "{'1100': 56, '0011': 63, '0010': 65, '1011': 67, '1010': 56, '0110': 59, '1101': 64, '0000': 71, '1001': 53, '1111': 76, '0101': 55, '1110': 63, '0100': 75, '1000': 56, '0001': 80, '0111': 65}\n"
     ]
    },
    {
     "data": {
      "image/png": "[encoded data removed]",
      "text/plain": [
       "<Figure size 700x500 with 1 Axes>"
      ]
     },
     "execution_count": 84,
     "metadata": {},
     "output_type": "execute_result"
    }
   ],
   "source": [
    "# Plot the results\n",
    "state_counts = sim_result.get_counts(qc_qft_inv)\n",
    "print(state_counts)\n",
    "plot_histogram(state_counts, title=\"Inverse Quantum Fourier Transform: State Count\")"
   ]
  },
  {
   "cell_type": "code",
   "execution_count": 85,
   "id": "60549c88-413a-4dba-8dc5-6471c40dbb50",
   "metadata": {},
   "outputs": [
    {
     "data": {
      "text/plain": [
       "<qiskit.circuit.instructionset.InstructionSet at 0x299a4ccde50>"
      ]
     },
     "execution_count": 85,
     "metadata": {},
     "output_type": "execute_result"
    }
   ],
   "source": [
    "### QUESTION 5 ###\n",
    "\n",
    "# Concatenate the two Quantum Circuits\n",
    "# (I tried using the \"compose\" function, but it injected \"measure\" gates, which messed\n",
    "#  with trying to get the Statevector at the end)\n",
    "qc_qft_final = QuantumCircuit(4)\n",
    "qc_qft_final.h(0)\n",
    "qc_qft_final.cp(np.pi/2, 1, 0) #note that we use pi/2 here, even though it is technically: 2*pi*(2^-2), because that is simpler and requires fewer computations for the computer\n",
    "qc_qft_final.cp(np.pi/4, 2, 0) #note that we use pi/4 here, even though it is technically: 2*pi*(2^-3), because that is simpler and requires fewer computations for the computer\n",
    "qc_qft_final.cp(np.pi/8, 3, 0) #note that we use pi/8 here, even though it is technically: 2*pi*(2^-4), because that is simpler and requires fewer computations for the computer\n",
    "qc_qft_final.h(1)\n",
    "qc_qft_final.cp(np.pi/2, 2, 1)\n",
    "qc_qft_final.cp(np.pi/4, 3, 1)\n",
    "qc_qft_final.h(2)\n",
    "qc_qft_final.cp(np.pi/2, 3, 2)\n",
    "qc_qft_final.h(3)\n",
    "qc_qft_final.swap(0, 3) # SWAP the first and fourth qubits\n",
    "qc_qft_final.swap(1, 2) # SWAP the second and third qubits\n",
    "qc_qft_final.swap(1, 2)\n",
    "qc_qft_final.swap(0, 3) #<-- You can see how this series of four swaps essentially does nothing!\n",
    "qc_qft_final.h(3)\n",
    "qc_qft_final.cp(-np.pi/2, 3, 2)\n",
    "qc_qft_final.h(2)\n",
    "qc_qft_final.cp(-np.pi/4, 3, 1)\n",
    "qc_qft_final.cp(-np.pi/2, 2, 1)\n",
    "qc_qft_final.h(1)\n",
    "qc_qft_final.cp(-np.pi/8, 3, 0)\n",
    "qc_qft_final.cp(-np.pi/4, 2, 0)\n",
    "qc_qft_final.cp(-np.pi/2, 1, 0)\n",
    "qc_qft_final.h(0)"
   ]
  },
  {
   "cell_type": "code",
   "execution_count": 86,
   "id": "0c8f369a-a1f9-4728-9146-cca34a9eedcd",
   "metadata": {},
   "outputs": [
    {
     "data": {
      "text/html": [
       "<pre style=\"word-wrap: normal;white-space: pre;background: #fff0;line-height: 1.1;font-family: &quot;Courier New&quot;,Courier,monospace\">     ┌───┐                                                                     »\n",
       "q_0: ┤ H ├─■────────■─────────────■────────────────────────────────────────────»\n",
       "     └───┘ │P(π/2)  │       ┌───┐ │                                            »\n",
       "q_1: ──────■────────┼───────┤ H ├─┼────────■────────■───────────────────────X──»\n",
       "                    │P(π/4) └───┘ │        │P(π/2)  │       ┌───┐           │  »\n",
       "q_2: ───────────────■─────────────┼────────■────────┼───────┤ H ├─■─────────X──»\n",
       "                                  │P(π/8)           │P(π/4) └───┘ │P(π/2) ┌───┐»\n",
       "q_3: ─────────────────────────────■─────────────────■─────────────■───────┤ H ├»\n",
       "                                                                          └───┘»\n",
       "«                                                                     »\n",
       "«q_0: ─X─────X──────────────────────────────────────────■─────────────»\n",
       "«      │     │                                          │        ┌───┐»\n",
       "«q_1: ─┼──X──┼──────────────────────■─────────■─────────┼────────┤ H ├»\n",
       "«      │  │  │                ┌───┐ │         │P(-π/2)  │        └───┘»\n",
       "«q_2: ─┼──X──┼───────■────────┤ H ├─┼─────────■─────────┼─────────────»\n",
       "«      │     │ ┌───┐ │P(-π/2) └───┘ │P(-π/4)            │P(-π/8)      »\n",
       "«q_3: ─X─────X─┤ H ├─■──────────────■───────────────────■─────────────»\n",
       "«              └───┘                                                  »\n",
       "«                         ┌───┐\n",
       "«q_0: ─■─────────■────────┤ H ├\n",
       "«      │         │P(-π/2) └───┘\n",
       "«q_1: ─┼─────────■─────────────\n",
       "«      │P(-π/4)                \n",
       "«q_2: ─■───────────────────────\n",
       "«                              \n",
       "«q_3: ─────────────────────────\n",
       "«                              </pre>"
      ],
      "text/plain": [
       "     ┌───┐                                                                     »\n",
       "q_0: ┤ H ├─■────────■─────────────■────────────────────────────────────────────»\n",
       "     └───┘ │P(π/2)  │       ┌───┐ │                                            »\n",
       "q_1: ──────■────────┼───────┤ H ├─┼────────■────────■───────────────────────X──»\n",
       "                    │P(π/4) └───┘ │        │P(π/2)  │       ┌───┐           │  »\n",
       "q_2: ───────────────■─────────────┼────────■────────┼───────┤ H ├─■─────────X──»\n",
       "                                  │P(π/8)           │P(π/4) └───┘ │P(π/2) ┌───┐»\n",
       "q_3: ─────────────────────────────■─────────────────■─────────────■───────┤ H ├»\n",
       "                                                                          └───┘»\n",
       "«                                                                     »\n",
       "«q_0: ─X─────X──────────────────────────────────────────■─────────────»\n",
       "«      │     │                                          │        ┌───┐»\n",
       "«q_1: ─┼──X──┼──────────────────────■─────────■─────────┼────────┤ H ├»\n",
       "«      │  │  │                ┌───┐ │         │P(-π/2)  │        └───┘»\n",
       "«q_2: ─┼──X──┼───────■────────┤ H ├─┼─────────■─────────┼─────────────»\n",
       "«      │     │ ┌───┐ │P(-π/2) └───┘ │P(-π/4)            │P(-π/8)      »\n",
       "«q_3: ─X─────X─┤ H ├─■──────────────■───────────────────■─────────────»\n",
       "«              └───┘                                                  »\n",
       "«                         ┌───┐\n",
       "«q_0: ─■─────────■────────┤ H ├\n",
       "«      │         │P(-π/2) └───┘\n",
       "«q_1: ─┼─────────■─────────────\n",
       "«      │P(-π/4)                \n",
       "«q_2: ─■───────────────────────\n",
       "«                              \n",
       "«q_3: ─────────────────────────\n",
       "«                              "
      ]
     },
     "execution_count": 86,
     "metadata": {},
     "output_type": "execute_result"
    }
   ],
   "source": [
    "# Draw the concatenation\n",
    "qc_qft_final.draw()"
   ]
  },
  {
   "cell_type": "code",
   "execution_count": 87,
   "id": "e7a29a44-ec59-492f-9207-159657228aff",
   "metadata": {},
   "outputs": [],
   "source": [
    "from qiskit.quantum_info import Statevector"
   ]
  },
  {
   "cell_type": "code",
   "execution_count": 88,
   "id": "71050818-c4a9-4ac3-aa09-1d89a897f025",
   "metadata": {},
   "outputs": [
    {
     "name": "stdout",
     "output_type": "stream",
     "text": [
      "Statevector([1.+0.j, 0.+0.j, 0.+0.j, 0.+0.j, 0.+0.j, 0.+0.j, 0.+0.j,\n",
      "             0.+0.j, 0.+0.j, 0.+0.j, 0.+0.j, 0.+0.j, 0.+0.j, 0.+0.j,\n",
      "             0.+0.j, 0.+0.j],\n",
      "            dims=(2, 2, 2, 2))\n"
     ]
    }
   ],
   "source": [
    "state_vec = Statevector.from_label('0000')\n",
    "print(state_vec)"
   ]
  },
  {
   "cell_type": "code",
   "execution_count": 89,
   "id": "d8269326-24b6-4c11-bd54-db0f61e7009b",
   "metadata": {},
   "outputs": [
    {
     "name": "stdout",
     "output_type": "stream",
     "text": [
      "Statevector([1.+0.j, 0.+0.j, 0.+0.j, 0.+0.j, 0.+0.j, 0.+0.j, 0.+0.j,\n",
      "             0.+0.j, 0.+0.j, 0.+0.j, 0.+0.j, 0.+0.j, 0.+0.j, 0.+0.j,\n",
      "             0.+0.j, 0.+0.j],\n",
      "            dims=(2, 2, 2, 2))\n"
     ]
    }
   ],
   "source": [
    "new_state_vec = state_vec\n",
    "new_state_vec = new_state_vec.evolve(qc_qft_final)\n",
    "print(new_state_vec)"
   ]
  },
  {
   "cell_type": "code",
   "execution_count": 90,
   "id": "033909f3-8de9-4904-8ee1-03a615bcb8fa",
   "metadata": {},
   "outputs": [
    {
     "name": "stdout",
     "output_type": "stream",
     "text": [
      "True\n"
     ]
    }
   ],
   "source": [
    "print(state_vec == new_state_vec)"
   ]
  },
  {
   "cell_type": "code",
   "execution_count": 91,
   "id": "6eaac3cf-eb9d-45a4-a8c2-1decbdbdd543",
   "metadata": {},
   "outputs": [],
   "source": [
    "# NOTICE HOW THE TWO STATE VECTORS ARE EQUAL, EVEN AT THE END OF THE CIRCUIT!!!"
   ]
  },
  {
   "cell_type": "code",
   "execution_count": 92,
   "id": "73148b00-6792-46dc-b12f-642323e80052",
   "metadata": {},
   "outputs": [],
   "source": [
    "# Let's try it for other state vectors:"
   ]
  },
  {
   "cell_type": "code",
   "execution_count": 93,
   "id": "3b2e65c5-4ebf-4742-ae89-4b2e39d72f14",
   "metadata": {},
   "outputs": [
    {
     "name": "stdout",
     "output_type": "stream",
     "text": [
      "Statevector([0.+0.j, 1.+0.j, 0.+0.j, 0.+0.j, 0.+0.j, 0.+0.j, 0.+0.j,\n",
      "             0.+0.j, 0.+0.j, 0.+0.j, 0.+0.j, 0.+0.j, 0.+0.j, 0.+0.j,\n",
      "             0.+0.j, 0.+0.j],\n",
      "            dims=(2, 2, 2, 2))\n",
      "Statevector([0.+0.j, 1.+0.j, 0.+0.j, 0.+0.j, 0.+0.j, 0.+0.j, 0.+0.j,\n",
      "             0.+0.j, 0.+0.j, 0.+0.j, 0.+0.j, 0.+0.j, 0.+0.j, 0.+0.j,\n",
      "             0.+0.j, 0.+0.j],\n",
      "            dims=(2, 2, 2, 2))\n",
      "True\n"
     ]
    }
   ],
   "source": [
    "# |0001>\n",
    "state_vec = Statevector.from_label('0001')\n",
    "print(state_vec)\n",
    "new_state_vec = state_vec\n",
    "new_state_vec = new_state_vec.evolve(qc_qft_final)\n",
    "print(new_state_vec)\n",
    "print(state_vec == new_state_vec)"
   ]
  },
  {
   "cell_type": "code",
   "execution_count": 94,
   "id": "f2feae19-68f8-4832-b417-cfa45725db42",
   "metadata": {},
   "outputs": [
    {
     "name": "stdout",
     "output_type": "stream",
     "text": [
      "Statevector([0.+0.j, 0.+0.j, 1.+0.j, 0.+0.j, 0.+0.j, 0.+0.j, 0.+0.j,\n",
      "             0.+0.j, 0.+0.j, 0.+0.j, 0.+0.j, 0.+0.j, 0.+0.j, 0.+0.j,\n",
      "             0.+0.j, 0.+0.j],\n",
      "            dims=(2, 2, 2, 2))\n",
      "Statevector([0.+0.000000e+00j, 0.+0.000000e+00j, 1.+4.357882e-33j,\n",
      "             0.-4.357882e-33j, 0.+0.000000e+00j, 0.+0.000000e+00j,\n",
      "             0.+0.000000e+00j, 0.+0.000000e+00j, 0.+0.000000e+00j,\n",
      "             0.+0.000000e+00j, 0.+0.000000e+00j, 0.+0.000000e+00j,\n",
      "             0.+0.000000e+00j, 0.+0.000000e+00j, 0.+0.000000e+00j,\n",
      "             0.+0.000000e+00j],\n",
      "            dims=(2, 2, 2, 2))\n",
      "True\n"
     ]
    }
   ],
   "source": [
    "# |0010>\n",
    "state_vec = Statevector.from_label('0010')\n",
    "print(state_vec)\n",
    "new_state_vec = state_vec\n",
    "new_state_vec = new_state_vec.evolve(qc_qft_final)\n",
    "print(new_state_vec)\n",
    "print(state_vec == new_state_vec)"
   ]
  },
  {
   "cell_type": "code",
   "execution_count": 95,
   "id": "2952250f-e70e-4ce7-afd4-f889760acc2f",
   "metadata": {},
   "outputs": [
    {
     "name": "stdout",
     "output_type": "stream",
     "text": [
      "Statevector([0.+0.j, 0.+0.j, 0.+0.j, 1.+0.j, 0.+0.j, 0.+0.j, 0.+0.j,\n",
      "             0.+0.j, 0.+0.j, 0.+0.j, 0.+0.j, 0.+0.j, 0.+0.j, 0.+0.j,\n",
      "             0.+0.j, 0.+0.j],\n",
      "            dims=(2, 2, 2, 2))\n",
      "Statevector([0.+0.000000e+00j, 0.+0.000000e+00j, 0.-4.357882e-33j,\n",
      "             1.+4.357882e-33j, 0.+0.000000e+00j, 0.+0.000000e+00j,\n",
      "             0.+0.000000e+00j, 0.+0.000000e+00j, 0.+0.000000e+00j,\n",
      "             0.+0.000000e+00j, 0.+0.000000e+00j, 0.+0.000000e+00j,\n",
      "             0.+0.000000e+00j, 0.+0.000000e+00j, 0.+0.000000e+00j,\n",
      "             0.+0.000000e+00j],\n",
      "            dims=(2, 2, 2, 2))\n",
      "True\n"
     ]
    }
   ],
   "source": [
    "# |0011>\n",
    "state_vec = Statevector.from_label('0011')\n",
    "print(state_vec)\n",
    "new_state_vec = state_vec\n",
    "new_state_vec = new_state_vec.evolve(qc_qft_final)\n",
    "print(new_state_vec)\n",
    "print(state_vec == new_state_vec)"
   ]
  },
  {
   "cell_type": "code",
   "execution_count": 96,
   "id": "62de9a99-4d96-40e3-8dee-bed9ae64e8a3",
   "metadata": {},
   "outputs": [
    {
     "name": "stdout",
     "output_type": "stream",
     "text": [
      "Statevector([0.+0.j, 0.+0.j, 0.+0.j, 0.+0.j, 1.+0.j, 0.+0.j, 0.+0.j,\n",
      "             0.+0.j, 0.+0.j, 0.+0.j, 0.+0.j, 0.+0.j, 0.+0.j, 0.+0.j,\n",
      "             0.+0.j, 0.+0.j],\n",
      "            dims=(2, 2, 2, 2))\n",
      "Statevector([ 0.00000000e+00+0.00000000e+00j,\n",
      "              0.00000000e+00+0.00000000e+00j,\n",
      "              0.00000000e+00+0.00000000e+00j,\n",
      "              0.00000000e+00+0.00000000e+00j,\n",
      "              1.00000000e+00+3.08148791e-33j,\n",
      "             -1.11022302e-16+3.08148791e-33j,\n",
      "              0.00000000e+00-3.08148791e-33j,\n",
      "              0.00000000e+00-3.08148791e-33j,\n",
      "              0.00000000e+00+0.00000000e+00j,\n",
      "              0.00000000e+00+0.00000000e+00j,\n",
      "              0.00000000e+00+0.00000000e+00j,\n",
      "              0.00000000e+00+0.00000000e+00j,\n",
      "              0.00000000e+00+0.00000000e+00j,\n",
      "              0.00000000e+00+0.00000000e+00j,\n",
      "              0.00000000e+00+0.00000000e+00j,\n",
      "              0.00000000e+00+0.00000000e+00j],\n",
      "            dims=(2, 2, 2, 2))\n",
      "True\n"
     ]
    }
   ],
   "source": [
    "# |0100>\n",
    "state_vec = Statevector.from_label('0100')\n",
    "print(state_vec)\n",
    "new_state_vec = state_vec\n",
    "new_state_vec = new_state_vec.evolve(qc_qft_final)\n",
    "print(new_state_vec)\n",
    "print(state_vec == new_state_vec)"
   ]
  },
  {
   "cell_type": "code",
   "execution_count": 97,
   "id": "944a7790-54b5-4cbc-929c-2c4c6182f048",
   "metadata": {},
   "outputs": [
    {
     "name": "stdout",
     "output_type": "stream",
     "text": [
      "Statevector([0.+0.j, 0.+0.j, 0.+0.j, 0.+0.j, 0.+0.j, 1.+0.j, 0.+0.j,\n",
      "             0.+0.j, 0.+0.j, 0.+0.j, 0.+0.j, 0.+0.j, 0.+0.j, 0.+0.j,\n",
      "             0.+0.j, 0.+0.j],\n",
      "            dims=(2, 2, 2, 2))\n",
      "Statevector([ 0.00000000e+00+0.00000000e+00j,\n",
      "              0.00000000e+00+0.00000000e+00j,\n",
      "              0.00000000e+00+0.00000000e+00j,\n",
      "              0.00000000e+00+0.00000000e+00j,\n",
      "             -1.11022302e-16+3.08148791e-33j,\n",
      "              1.00000000e+00+3.08148791e-33j,\n",
      "              0.00000000e+00-3.08148791e-33j,\n",
      "              0.00000000e+00-3.08148791e-33j,\n",
      "              0.00000000e+00+0.00000000e+00j,\n",
      "              0.00000000e+00+0.00000000e+00j,\n",
      "              0.00000000e+00+0.00000000e+00j,\n",
      "              0.00000000e+00+0.00000000e+00j,\n",
      "              0.00000000e+00+0.00000000e+00j,\n",
      "              0.00000000e+00+0.00000000e+00j,\n",
      "              0.00000000e+00+0.00000000e+00j,\n",
      "              0.00000000e+00+0.00000000e+00j],\n",
      "            dims=(2, 2, 2, 2))\n",
      "True\n"
     ]
    }
   ],
   "source": [
    "# |0101>\n",
    "state_vec = Statevector.from_label('0101')\n",
    "print(state_vec)\n",
    "new_state_vec = state_vec\n",
    "new_state_vec = new_state_vec.evolve(qc_qft_final)\n",
    "print(new_state_vec)\n",
    "print(state_vec == new_state_vec)"
   ]
  },
  {
   "cell_type": "code",
   "execution_count": 98,
   "id": "12c6ab1b-db10-4da7-877a-308208346bc1",
   "metadata": {},
   "outputs": [
    {
     "name": "stdout",
     "output_type": "stream",
     "text": [
      "Statevector([0.+0.j, 0.+0.j, 0.+0.j, 0.+0.j, 0.+0.j, 0.+0.j, 1.+0.j,\n",
      "             0.+0.j, 0.+0.j, 0.+0.j, 0.+0.j, 0.+0.j, 0.+0.j, 0.+0.j,\n",
      "             0.+0.j, 0.+0.j],\n",
      "            dims=(2, 2, 2, 2))\n",
      "Statevector([ 0.00000000e+00+0.00000000e+00j,\n",
      "              0.00000000e+00+0.00000000e+00j,\n",
      "              0.00000000e+00+0.00000000e+00j,\n",
      "              0.00000000e+00+0.00000000e+00j,\n",
      "              0.00000000e+00-3.08148791e-33j,\n",
      "              0.00000000e+00-3.08148791e-33j,\n",
      "              1.00000000e+00-8.63614149e-18j,\n",
      "             -1.11022302e-16+8.63614149e-18j,\n",
      "              0.00000000e+00+0.00000000e+00j,\n",
      "              0.00000000e+00+0.00000000e+00j,\n",
      "              0.00000000e+00+0.00000000e+00j,\n",
      "              0.00000000e+00+0.00000000e+00j,\n",
      "              0.00000000e+00+0.00000000e+00j,\n",
      "              0.00000000e+00+0.00000000e+00j,\n",
      "              0.00000000e+00+0.00000000e+00j,\n",
      "              0.00000000e+00+0.00000000e+00j],\n",
      "            dims=(2, 2, 2, 2))\n",
      "True\n"
     ]
    }
   ],
   "source": [
    "# |0110>\n",
    "state_vec = Statevector.from_label('0110')\n",
    "print(state_vec)\n",
    "new_state_vec = state_vec\n",
    "new_state_vec = new_state_vec.evolve(qc_qft_final)\n",
    "print(new_state_vec)\n",
    "print(state_vec == new_state_vec)"
   ]
  },
  {
   "cell_type": "code",
   "execution_count": 99,
   "id": "23ebd004-80c8-4551-a305-e791415109dd",
   "metadata": {},
   "outputs": [
    {
     "name": "stdout",
     "output_type": "stream",
     "text": [
      "Statevector([0.+0.j, 0.+0.j, 0.+0.j, 0.+0.j, 0.+0.j, 0.+0.j, 0.+0.j,\n",
      "             1.+0.j, 0.+0.j, 0.+0.j, 0.+0.j, 0.+0.j, 0.+0.j, 0.+0.j,\n",
      "             0.+0.j, 0.+0.j],\n",
      "            dims=(2, 2, 2, 2))\n",
      "Statevector([ 0.00000000e+00+0.00000000e+00j,\n",
      "              0.00000000e+00+0.00000000e+00j,\n",
      "              0.00000000e+00+0.00000000e+00j,\n",
      "              0.00000000e+00+0.00000000e+00j,\n",
      "              0.00000000e+00-3.08148791e-33j,\n",
      "              0.00000000e+00-3.08148791e-33j,\n",
      "             -1.11022302e-16+8.63614149e-18j,\n",
      "              1.00000000e+00-8.63614149e-18j,\n",
      "              0.00000000e+00+0.00000000e+00j,\n",
      "              0.00000000e+00+0.00000000e+00j,\n",
      "              0.00000000e+00+0.00000000e+00j,\n",
      "              0.00000000e+00+0.00000000e+00j,\n",
      "              0.00000000e+00+0.00000000e+00j,\n",
      "              0.00000000e+00+0.00000000e+00j,\n",
      "              0.00000000e+00+0.00000000e+00j,\n",
      "              0.00000000e+00+0.00000000e+00j],\n",
      "            dims=(2, 2, 2, 2))\n",
      "True\n"
     ]
    }
   ],
   "source": [
    "# |0111>\n",
    "state_vec = Statevector.from_label('0111')\n",
    "print(state_vec)\n",
    "new_state_vec = state_vec\n",
    "new_state_vec = new_state_vec.evolve(qc_qft_final)\n",
    "print(new_state_vec)\n",
    "print(state_vec == new_state_vec)"
   ]
  },
  {
   "cell_type": "code",
   "execution_count": 100,
   "id": "05f70edc-d7b4-4862-8a05-f8a8199db1bb",
   "metadata": {},
   "outputs": [
    {
     "name": "stdout",
     "output_type": "stream",
     "text": [
      "Statevector([0.+0.j, 0.+0.j, 0.+0.j, 0.+0.j, 0.+0.j, 0.+0.j, 0.+0.j,\n",
      "             0.+0.j, 1.+0.j, 0.+0.j, 0.+0.j, 0.+0.j, 0.+0.j, 0.+0.j,\n",
      "             0.+0.j, 0.+0.j],\n",
      "            dims=(2, 2, 2, 2))\n",
      "Statevector([ 0.00000000e+00+0.00000000e+00j,\n",
      "              0.00000000e+00+0.00000000e+00j,\n",
      "              0.00000000e+00+0.00000000e+00j,\n",
      "              0.00000000e+00+0.00000000e+00j,\n",
      "              0.00000000e+00+0.00000000e+00j,\n",
      "              0.00000000e+00+0.00000000e+00j,\n",
      "              0.00000000e+00+0.00000000e+00j,\n",
      "              0.00000000e+00+0.00000000e+00j,\n",
      "              1.00000000e+00+1.96261557e-17j,\n",
      "              1.11022302e-16-1.96261557e-17j,\n",
      "             -5.73845151e-17+7.51060464e-18j,\n",
      "             -2.11201079e-17-7.51060464e-18j,\n",
      "             -9.81307787e-18-9.81307787e-18j,\n",
      "             -9.81307787e-18-9.81307787e-18j,\n",
      "              9.81307787e-18+9.81307787e-18j,\n",
      "              9.81307787e-18+9.81307787e-18j],\n",
      "            dims=(2, 2, 2, 2))\n",
      "True\n"
     ]
    }
   ],
   "source": [
    "# |1000>\n",
    "state_vec = Statevector.from_label('1000')\n",
    "print(state_vec)\n",
    "new_state_vec = state_vec\n",
    "new_state_vec = new_state_vec.evolve(qc_qft_final)\n",
    "print(new_state_vec)\n",
    "print(state_vec == new_state_vec)"
   ]
  },
  {
   "cell_type": "code",
   "execution_count": 101,
   "id": "d1c1ec68-8a77-4b78-a1b1-412ffe96248d",
   "metadata": {},
   "outputs": [
    {
     "name": "stdout",
     "output_type": "stream",
     "text": [
      "Statevector([0.+0.j, 0.+0.j, 0.+0.j, 0.+0.j, 0.+0.j, 0.+0.j, 0.+0.j,\n",
      "             0.+0.j, 0.+0.j, 1.+0.j, 0.+0.j, 0.+0.j, 0.+0.j, 0.+0.j,\n",
      "             0.+0.j, 0.+0.j],\n",
      "            dims=(2, 2, 2, 2))\n",
      "Statevector([ 0.00000000e+00+0.00000000e+00j,\n",
      "              0.00000000e+00+0.00000000e+00j,\n",
      "              0.00000000e+00+0.00000000e+00j,\n",
      "              0.00000000e+00+0.00000000e+00j,\n",
      "              0.00000000e+00+0.00000000e+00j,\n",
      "              0.00000000e+00+0.00000000e+00j,\n",
      "              0.00000000e+00+0.00000000e+00j,\n",
      "              0.00000000e+00+0.00000000e+00j,\n",
      "              1.11022302e-16-1.96261557e-17j,\n",
      "              1.00000000e+00+1.96261557e-17j,\n",
      "             -2.11201079e-17-7.51060464e-18j,\n",
      "             -5.73845151e-17+7.51060464e-18j,\n",
      "             -9.81307787e-18-9.81307787e-18j,\n",
      "             -9.81307787e-18-9.81307787e-18j,\n",
      "              9.81307787e-18+9.81307787e-18j,\n",
      "              9.81307787e-18+9.81307787e-18j],\n",
      "            dims=(2, 2, 2, 2))\n",
      "True\n"
     ]
    }
   ],
   "source": [
    "# |1001>\n",
    "state_vec = Statevector.from_label('1001')\n",
    "print(state_vec)\n",
    "new_state_vec = state_vec\n",
    "new_state_vec = new_state_vec.evolve(qc_qft_final)\n",
    "print(new_state_vec)\n",
    "print(state_vec == new_state_vec)"
   ]
  },
  {
   "cell_type": "code",
   "execution_count": 102,
   "id": "f4e25b91-bad5-4dcd-a8d3-bcc1ff93d60d",
   "metadata": {},
   "outputs": [
    {
     "name": "stdout",
     "output_type": "stream",
     "text": [
      "Statevector([0.+0.j, 0.+0.j, 0.+0.j, 0.+0.j, 0.+0.j, 0.+0.j, 0.+0.j,\n",
      "             0.+0.j, 0.+0.j, 0.+0.j, 1.+0.j, 0.+0.j, 0.+0.j, 0.+0.j,\n",
      "             0.+0.j, 0.+0.j],\n",
      "            dims=(2, 2, 2, 2))\n",
      "Statevector([ 0.00000000e+00+0.00000000e+00j,\n",
      "              0.00000000e+00+0.00000000e+00j,\n",
      "              0.00000000e+00+0.00000000e+00j,\n",
      "              0.00000000e+00+0.00000000e+00j,\n",
      "              0.00000000e+00+0.00000000e+00j,\n",
      "              0.00000000e+00+0.00000000e+00j,\n",
      "              0.00000000e+00+0.00000000e+00j,\n",
      "              0.00000000e+00+0.00000000e+00j,\n",
      "             -2.98790430e-18-1.50212093e-17j,\n",
      "             -7.55167186e-17+1.50212093e-17j,\n",
      "              1.00000000e+00+1.09900142e-17j,\n",
      "              1.11022302e-16-1.09900142e-17j,\n",
      "              9.81307787e-18+9.81307787e-18j,\n",
      "              9.81307787e-18+9.81307787e-18j,\n",
      "             -9.81307787e-18-9.81307787e-18j,\n",
      "             -9.81307787e-18-9.81307787e-18j],\n",
      "            dims=(2, 2, 2, 2))\n",
      "True\n"
     ]
    }
   ],
   "source": [
    "# |1010>\n",
    "state_vec = Statevector.from_label('1010')\n",
    "print(state_vec)\n",
    "new_state_vec = state_vec\n",
    "new_state_vec = new_state_vec.evolve(qc_qft_final)\n",
    "print(new_state_vec)\n",
    "print(state_vec == new_state_vec)"
   ]
  },
  {
   "cell_type": "code",
   "execution_count": 103,
   "id": "9b4e0216-dde5-4e47-b9d9-d8ca493177c9",
   "metadata": {},
   "outputs": [
    {
     "name": "stdout",
     "output_type": "stream",
     "text": [
      "Statevector([0.+0.j, 0.+0.j, 0.+0.j, 0.+0.j, 0.+0.j, 0.+0.j, 0.+0.j,\n",
      "             0.+0.j, 0.+0.j, 0.+0.j, 0.+0.j, 0.+0.j, 1.+0.j, 0.+0.j,\n",
      "             0.+0.j, 0.+0.j],\n",
      "            dims=(2, 2, 2, 2))\n",
      "Statevector([ 0.00000000e+00+0.00000000e+00j,\n",
      "              0.00000000e+00+0.00000000e+00j,\n",
      "              0.00000000e+00+0.00000000e+00j,\n",
      "              0.00000000e+00+0.00000000e+00j,\n",
      "              0.00000000e+00+0.00000000e+00j,\n",
      "              0.00000000e+00+0.00000000e+00j,\n",
      "              0.00000000e+00+0.00000000e+00j,\n",
      "              0.00000000e+00+0.00000000e+00j,\n",
      "              9.81307787e-18+9.81307787e-18j,\n",
      "              9.81307787e-18+9.81307787e-18j,\n",
      "             -9.81307787e-18-9.81307787e-18j,\n",
      "             -9.81307787e-18-9.81307787e-18j,\n",
      "              1.00000000e+00+9.38127079e-17j,\n",
      "             -5.55111512e-17-6.31965379e-17j,\n",
      "             -3.61413172e-17+2.84669268e-17j,\n",
      "             -4.23633058e-17-5.90830968e-17j],\n",
      "            dims=(2, 2, 2, 2))\n",
      "True\n"
     ]
    }
   ],
   "source": [
    "# |1100>\n",
    "state_vec = Statevector.from_label('1100')\n",
    "print(state_vec)\n",
    "new_state_vec = state_vec\n",
    "new_state_vec = new_state_vec.evolve(qc_qft_final)\n",
    "print(new_state_vec)\n",
    "print(state_vec == new_state_vec)"
   ]
  },
  {
   "cell_type": "code",
   "execution_count": 104,
   "id": "4e08508e-2459-4536-9f69-4534873b634b",
   "metadata": {},
   "outputs": [
    {
     "name": "stdout",
     "output_type": "stream",
     "text": [
      "Statevector([0.+0.j, 0.+0.j, 0.+0.j, 0.+0.j, 0.+0.j, 0.+0.j, 0.+0.j,\n",
      "             0.+0.j, 0.+0.j, 0.+0.j, 0.+0.j, 1.+0.j, 0.+0.j, 0.+0.j,\n",
      "             0.+0.j, 0.+0.j],\n",
      "            dims=(2, 2, 2, 2))\n",
      "Statevector([ 0.00000000e+00+0.00000000e+00j,\n",
      "              0.00000000e+00+0.00000000e+00j,\n",
      "              0.00000000e+00+0.00000000e+00j,\n",
      "              0.00000000e+00+0.00000000e+00j,\n",
      "              0.00000000e+00+0.00000000e+00j,\n",
      "              0.00000000e+00+0.00000000e+00j,\n",
      "              0.00000000e+00+0.00000000e+00j,\n",
      "              0.00000000e+00+0.00000000e+00j,\n",
      "             -7.55167186e-17+1.50212093e-17j,\n",
      "             -2.98790430e-18-1.50212093e-17j,\n",
      "              1.11022302e-16-1.09900142e-17j,\n",
      "              1.00000000e+00+1.09900142e-17j,\n",
      "              9.81307787e-18+9.81307787e-18j,\n",
      "              9.81307787e-18+9.81307787e-18j,\n",
      "             -9.81307787e-18-9.81307787e-18j,\n",
      "             -9.81307787e-18-9.81307787e-18j],\n",
      "            dims=(2, 2, 2, 2))\n",
      "True\n"
     ]
    }
   ],
   "source": [
    "# |1011>\n",
    "state_vec = Statevector.from_label('1011')\n",
    "print(state_vec)\n",
    "new_state_vec = state_vec\n",
    "new_state_vec = new_state_vec.evolve(qc_qft_final)\n",
    "print(new_state_vec)\n",
    "print(state_vec == new_state_vec)"
   ]
  },
  {
   "cell_type": "code",
   "execution_count": 105,
   "id": "cf97b7fd-3e4b-48d5-bfd3-7830f676a018",
   "metadata": {},
   "outputs": [
    {
     "name": "stdout",
     "output_type": "stream",
     "text": [
      "Statevector([0.+0.j, 0.+0.j, 0.+0.j, 0.+0.j, 0.+0.j, 0.+0.j, 0.+0.j,\n",
      "             0.+0.j, 0.+0.j, 0.+0.j, 0.+0.j, 0.+0.j, 0.+0.j, 1.+0.j,\n",
      "             0.+0.j, 0.+0.j],\n",
      "            dims=(2, 2, 2, 2))\n",
      "Statevector([ 0.00000000e+00+0.00000000e+00j,\n",
      "              0.00000000e+00+0.00000000e+00j,\n",
      "              0.00000000e+00+0.00000000e+00j,\n",
      "              0.00000000e+00+0.00000000e+00j,\n",
      "              0.00000000e+00+0.00000000e+00j,\n",
      "              0.00000000e+00+0.00000000e+00j,\n",
      "              0.00000000e+00+0.00000000e+00j,\n",
      "              0.00000000e+00+0.00000000e+00j,\n",
      "              9.81307787e-18+9.81307787e-18j,\n",
      "              9.81307787e-18+9.81307787e-18j,\n",
      "             -9.81307787e-18-9.81307787e-18j,\n",
      "             -9.81307787e-18-9.81307787e-18j,\n",
      "             -5.55111512e-17-6.31965379e-17j,\n",
      "              1.00000000e+00+9.38127079e-17j,\n",
      "             -4.23633058e-17-5.90830968e-17j,\n",
      "             -3.61413172e-17+2.84669268e-17j],\n",
      "            dims=(2, 2, 2, 2))\n",
      "True\n"
     ]
    }
   ],
   "source": [
    "# |1101>\n",
    "state_vec = Statevector.from_label('1101')\n",
    "print(state_vec)\n",
    "new_state_vec = state_vec\n",
    "new_state_vec = new_state_vec.evolve(qc_qft_final)\n",
    "print(new_state_vec)\n",
    "print(state_vec == new_state_vec)"
   ]
  },
  {
   "cell_type": "code",
   "execution_count": 106,
   "id": "66e24123-f6ef-45f3-b85a-ba53991bb651",
   "metadata": {},
   "outputs": [
    {
     "name": "stdout",
     "output_type": "stream",
     "text": [
      "Statevector([0.+0.j, 0.+0.j, 0.+0.j, 0.+0.j, 0.+0.j, 0.+0.j, 0.+0.j,\n",
      "             0.+0.j, 0.+0.j, 0.+0.j, 0.+0.j, 0.+0.j, 0.+0.j, 0.+0.j,\n",
      "             1.+0.j, 0.+0.j],\n",
      "            dims=(2, 2, 2, 2))\n",
      "Statevector([ 0.00000000e+00+0.00000000e+00j,\n",
      "              0.00000000e+00+0.00000000e+00j,\n",
      "              0.00000000e+00+0.00000000e+00j,\n",
      "              0.00000000e+00+0.00000000e+00j,\n",
      "              0.00000000e+00+0.00000000e+00j,\n",
      "              0.00000000e+00+0.00000000e+00j,\n",
      "              0.00000000e+00+0.00000000e+00j,\n",
      "              0.00000000e+00+0.00000000e+00j,\n",
      "             -9.81307787e-18-9.81307787e-18j,\n",
      "             -9.81307787e-18-9.81307787e-18j,\n",
      "              9.81307787e-18+9.81307787e-18j,\n",
      "              9.81307787e-18+9.81307787e-18j,\n",
      "             -7.55167186e-17-3.03292943e-17j,\n",
      "             -2.98790430e-18-2.86875709e-19j,\n",
      "              1.00000000e+00+6.67194350e-18j,\n",
      "              0.00000000e+00+2.39442265e-17j],\n",
      "            dims=(2, 2, 2, 2))\n",
      "True\n"
     ]
    }
   ],
   "source": [
    "# |1110>\n",
    "state_vec = Statevector.from_label('1110')\n",
    "print(state_vec)\n",
    "new_state_vec = state_vec\n",
    "new_state_vec = new_state_vec.evolve(qc_qft_final)\n",
    "print(new_state_vec)\n",
    "print(state_vec == new_state_vec)"
   ]
  },
  {
   "cell_type": "code",
   "execution_count": 107,
   "id": "3c45e2b9-ad54-4a1b-8fa8-837aa9613fd9",
   "metadata": {},
   "outputs": [
    {
     "name": "stdout",
     "output_type": "stream",
     "text": [
      "Statevector([0.+0.j, 0.+0.j, 0.+0.j, 0.+0.j, 0.+0.j, 0.+0.j, 0.+0.j,\n",
      "             0.+0.j, 0.+0.j, 0.+0.j, 0.+0.j, 0.+0.j, 0.+0.j, 0.+0.j,\n",
      "             0.+0.j, 1.+0.j],\n",
      "            dims=(2, 2, 2, 2))\n",
      "Statevector([ 0.00000000e+00+0.00000000e+00j,\n",
      "              0.00000000e+00+0.00000000e+00j,\n",
      "              0.00000000e+00+0.00000000e+00j,\n",
      "              0.00000000e+00+0.00000000e+00j,\n",
      "              0.00000000e+00+0.00000000e+00j,\n",
      "              0.00000000e+00+0.00000000e+00j,\n",
      "              0.00000000e+00+0.00000000e+00j,\n",
      "              0.00000000e+00+0.00000000e+00j,\n",
      "             -9.81307787e-18-9.81307787e-18j,\n",
      "             -9.81307787e-18-9.81307787e-18j,\n",
      "              9.81307787e-18+9.81307787e-18j,\n",
      "              9.81307787e-18+9.81307787e-18j,\n",
      "             -2.98790430e-18-2.86875709e-19j,\n",
      "             -7.55167186e-17-3.03292943e-17j,\n",
      "              0.00000000e+00+2.39442265e-17j,\n",
      "              1.00000000e+00+6.67194350e-18j],\n",
      "            dims=(2, 2, 2, 2))\n",
      "True\n"
     ]
    }
   ],
   "source": [
    "# |1111>\n",
    "state_vec = Statevector.from_label('1111')\n",
    "print(state_vec)\n",
    "new_state_vec = state_vec\n",
    "new_state_vec = new_state_vec.evolve(qc_qft_final)\n",
    "print(new_state_vec)\n",
    "print(state_vec == new_state_vec)"
   ]
  },
  {
   "cell_type": "code",
   "execution_count": 108,
   "id": "02e2311a-5b9a-4012-be57-c6e7e3babd60",
   "metadata": {},
   "outputs": [
    {
     "data": {
      "text/plain": [
       "'\\nWhile there are differences in the final state vectors in some cases, this can be chalked\\n up to floating point error. The decimal values of the vector arguments that are changed\\n are so small as to be almost irrelevant, being so close to 0 that can be considered\\n approximately 0 (being 0 to the 15th decimal place after the decimal is small enough to\\n be considered 0).\\n'"
      ]
     },
     "execution_count": 108,
     "metadata": {},
     "output_type": "execute_result"
    }
   ],
   "source": [
    "\"\"\"\n",
    "While there are differences in the final state vectors in some cases, this can be chalked\n",
    " up to floating point error. The decimal values of the vector arguments that are changed\n",
    " are so small as to be almost irrelevant, being so close to 0 that can be considered\n",
    " approximately 0 (being 0 to the 15th decimal place after the decimal is small enough to\n",
    " be considered 0).\n",
    "\"\"\"\n",
    "### END QUESTION 5 ###"
   ]
  }
 ],
 "metadata": {
  "kernelspec": {
   "display_name": "Python 3 (ipykernel)",
   "language": "python",
   "name": "python3"
  },
  "language_info": {
   "codemirror_mode": {
    "name": "ipython",
    "version": 3
   },
   "file_extension": ".py",
   "mimetype": "text/x-python",
   "name": "python",
   "nbconvert_exporter": "python",
   "pygments_lexer": "ipython3",
   "version": "3.9.13"
  }
 },
 "nbformat": 4,
 "nbformat_minor": 5
}
