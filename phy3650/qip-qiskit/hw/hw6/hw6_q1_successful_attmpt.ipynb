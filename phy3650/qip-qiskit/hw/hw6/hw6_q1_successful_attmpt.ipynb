{
 "cells": [
  {
   "cell_type": "markdown",
   "id": "dd92033e-3715-4222-9f21-e3ef07ff64f9",
   "metadata": {},
   "source": [
    "# Make the Circuit"
   ]
  },
  {
   "cell_type": "code",
   "execution_count": 1,
   "id": "e53dfe21-b372-49e3-af47-129bf17e0027",
   "metadata": {},
   "outputs": [],
   "source": [
    "import numpy as np\n",
    "from qiskit import QuantumCircuit\n",
    "from qiskit_aer import Aer\n",
    "from qiskit.quantum_info import Statevector, Operator"
   ]
  },
  {
   "cell_type": "code",
   "execution_count": 2,
   "id": "5377f4b1-f9fd-40e3-8378-fbfc7d5819f5",
   "metadata": {},
   "outputs": [
    {
     "data": {
      "text/plain": [
       "<qiskit.circuit.instructionset.InstructionSet at 0x23dccd94af0>"
      ]
     },
     "execution_count": 2,
     "metadata": {},
     "output_type": "execute_result"
    }
   ],
   "source": [
    "# Sources:\n",
    "# - Qiskit Toffoli Gate documentation: https://docs.quantum.ibm.com/api/qiskit/qiskit.circuit.QuantumCircuit#ccx\n",
    "# <insert sources here from hw6_q1_attmpt1.ipynb>\n",
    "\n",
    "U_f_qc = QuantumCircuit(3)\n",
    "U_f_qc.x(1)\n",
    "U_f_qc.ccx(2, 1, 0)\t# This may look odd, but please see the \"Note\" about \"many textbooks' conventions presenting more significant qubits as control, which in our case would be q_2 and q_1\" - [paraphrased...]\n",
    "U_f_qc.x(1)\t    # This - and the other x's too, admittedly - weird formatting is because IBM's Qiskit follows the \"'little endian convention'\", according to the \"Note\" mentioned just above in the previous comment on the previous line above this one..."
   ]
  },
  {
   "cell_type": "code",
   "execution_count": 3,
   "id": "874a6f19-9cf7-4795-a141-26958627af08",
   "metadata": {},
   "outputs": [
    {
     "data": {
      "text/html": [
       "<pre style=\"word-wrap: normal;white-space: pre;background: #fff0;line-height: 1.1;font-family: &quot;Courier New&quot;,Courier,monospace\">          ┌───┐     \n",
       "q_0: ─────┤ X ├─────\n",
       "     ┌───┐└─┬─┘┌───┐\n",
       "q_1: ┤ X ├──■──┤ X ├\n",
       "     └───┘  │  └───┘\n",
       "q_2: ───────■───────\n",
       "                    </pre>"
      ],
      "text/plain": [
       "          ┌───┐     \n",
       "q_0: ─────┤ X ├─────\n",
       "     ┌───┐└─┬─┘┌───┐\n",
       "q_1: ┤ X ├──■──┤ X ├\n",
       "     └───┘  │  └───┘\n",
       "q_2: ───────■───────\n",
       "                    "
      ]
     },
     "execution_count": 3,
     "metadata": {},
     "output_type": "execute_result"
    }
   ],
   "source": [
    "U_f_qc.draw()"
   ]
  },
  {
   "cell_type": "markdown",
   "id": "3fd39b67-563b-46da-a181-6194c6864d4b",
   "metadata": {},
   "source": [
    "## Turn It into Its Operator Equivalent"
   ]
  },
  {
   "cell_type": "code",
   "execution_count": 4,
   "id": "fa755b45-83cd-4c43-b9f0-5dea94ebdfa2",
   "metadata": {},
   "outputs": [],
   "source": [
    "U_f_actl = Operator(U_f_qc)    # Make the actual ^U_f operator..."
   ]
  },
  {
   "cell_type": "code",
   "execution_count": 5,
   "id": "cdf499f2-cb66-4aa3-be24-e0880ce68a8d",
   "metadata": {},
   "outputs": [
    {
     "name": "stdout",
     "output_type": "stream",
     "text": [
      "Operator([[1.+0.j, 0.+0.j, 0.+0.j, 0.+0.j, 0.+0.j, 0.+0.j, 0.+0.j, 0.+0.j],\n",
      "          [0.+0.j, 1.+0.j, 0.+0.j, 0.+0.j, 0.+0.j, 0.+0.j, 0.+0.j, 0.+0.j],\n",
      "          [0.+0.j, 0.+0.j, 1.+0.j, 0.+0.j, 0.+0.j, 0.+0.j, 0.+0.j, 0.+0.j],\n",
      "          [0.+0.j, 0.+0.j, 0.+0.j, 1.+0.j, 0.+0.j, 0.+0.j, 0.+0.j, 0.+0.j],\n",
      "          [0.+0.j, 0.+0.j, 0.+0.j, 0.+0.j, 0.+0.j, 1.+0.j, 0.+0.j, 0.+0.j],\n",
      "          [0.+0.j, 0.+0.j, 0.+0.j, 0.+0.j, 1.+0.j, 0.+0.j, 0.+0.j, 0.+0.j],\n",
      "          [0.+0.j, 0.+0.j, 0.+0.j, 0.+0.j, 0.+0.j, 0.+0.j, 1.+0.j, 0.+0.j],\n",
      "          [0.+0.j, 0.+0.j, 0.+0.j, 0.+0.j, 0.+0.j, 0.+0.j, 0.+0.j, 1.+0.j]],\n",
      "         input_dims=(2, 2, 2), output_dims=(2, 2, 2))\n"
     ]
    }
   ],
   "source": [
    "print(U_f_actl)\t# Print the operator; THIS IS THE SOLUTION!!!"
   ]
  },
  {
   "cell_type": "markdown",
   "id": "f763b8a7-47ee-440e-afc9-331aab006765",
   "metadata": {},
   "source": [
    "# Verify that it works:\n",
    "---"
   ]
  },
  {
   "cell_type": "code",
   "execution_count": 6,
   "id": "30ca89bf-2386-4b57-a7d8-39ca15391b27",
   "metadata": {},
   "outputs": [
    {
     "name": "stdout",
     "output_type": "stream",
     "text": [
      "Before:\n",
      "Statevector([1.+0.j, 0.+0.j, 0.+0.j, 0.+0.j, 0.+0.j, 0.+0.j, 0.+0.j,\n",
      "             0.+0.j],\n",
      "            dims=(2, 2, 2))\n",
      "After:\n",
      "Statevector([1.+0.j, 0.+0.j, 0.+0.j, 0.+0.j, 0.+0.j, 0.+0.j, 0.+0.j,\n",
      "             0.+0.j],\n",
      "            dims=(2, 2, 2))\n",
      "Are they equal? Yes\n"
     ]
    }
   ],
   "source": [
    "sv = Statevector.from_label('000')\n",
    "sv_before = sv\n",
    "print(f\"Before:\\n{sv_before}\")\n",
    "sv = sv.evolve(U_f_actl)\n",
    "print(f\"After:\\n{sv}\")\n",
    "print(f\"Are they equal? {'Yes' if sv_before == sv else 'No'}\")"
   ]
  },
  {
   "cell_type": "code",
   "execution_count": 7,
   "id": "6fad1141-d6a0-446e-adf6-9cf58b40860f",
   "metadata": {},
   "outputs": [
    {
     "name": "stdout",
     "output_type": "stream",
     "text": [
      "Before:\n",
      "Statevector([0.+0.j, 1.+0.j, 0.+0.j, 0.+0.j, 0.+0.j, 0.+0.j, 0.+0.j,\n",
      "             0.+0.j],\n",
      "            dims=(2, 2, 2))\n",
      "After:\n",
      "Statevector([0.+0.j, 1.+0.j, 0.+0.j, 0.+0.j, 0.+0.j, 0.+0.j, 0.+0.j,\n",
      "             0.+0.j],\n",
      "            dims=(2, 2, 2))\n",
      "Are they equal? Yes\n"
     ]
    }
   ],
   "source": [
    "sv = Statevector.from_label('001')\n",
    "sv_before = sv\n",
    "print(f\"Before:\\n{sv_before}\")\n",
    "sv = sv.evolve(U_f_actl)\n",
    "print(f\"After:\\n{sv}\")\n",
    "print(f\"Are they equal? {'Yes' if sv_before == sv else 'No'}\")"
   ]
  },
  {
   "cell_type": "code",
   "execution_count": 8,
   "id": "1ff231be-cac8-4dcf-83e0-a4147d82cdbd",
   "metadata": {},
   "outputs": [
    {
     "name": "stdout",
     "output_type": "stream",
     "text": [
      "Before:\n",
      "Statevector([0.+0.j, 0.+0.j, 1.+0.j, 0.+0.j, 0.+0.j, 0.+0.j, 0.+0.j,\n",
      "             0.+0.j],\n",
      "            dims=(2, 2, 2))\n",
      "After:\n",
      "Statevector([0.+0.j, 0.+0.j, 1.+0.j, 0.+0.j, 0.+0.j, 0.+0.j, 0.+0.j,\n",
      "             0.+0.j],\n",
      "            dims=(2, 2, 2))\n",
      "Are they equal? Yes\n"
     ]
    }
   ],
   "source": [
    "sv = Statevector.from_label('010')\n",
    "sv_before = sv\n",
    "print(f\"Before:\\n{sv_before}\")\n",
    "sv = sv.evolve(U_f_actl)\n",
    "print(f\"After:\\n{sv}\")\n",
    "print(f\"Are they equal? {'Yes' if sv_before == sv else 'No'}\")"
   ]
  },
  {
   "cell_type": "code",
   "execution_count": 9,
   "id": "0941a600-5df0-47b1-bae1-2f2d8f860626",
   "metadata": {},
   "outputs": [
    {
     "name": "stdout",
     "output_type": "stream",
     "text": [
      "Before:\n",
      "Statevector([0.+0.j, 0.+0.j, 0.+0.j, 1.+0.j, 0.+0.j, 0.+0.j, 0.+0.j,\n",
      "             0.+0.j],\n",
      "            dims=(2, 2, 2))\n",
      "After:\n",
      "Statevector([0.+0.j, 0.+0.j, 0.+0.j, 1.+0.j, 0.+0.j, 0.+0.j, 0.+0.j,\n",
      "             0.+0.j],\n",
      "            dims=(2, 2, 2))\n",
      "Are they equal? Yes\n"
     ]
    }
   ],
   "source": [
    "sv = Statevector.from_label('011')\n",
    "sv_before = sv\n",
    "print(f\"Before:\\n{sv_before}\")\n",
    "sv = sv.evolve(U_f_actl)\n",
    "print(f\"After:\\n{sv}\")\n",
    "print(f\"Are they equal? {'Yes' if sv_before == sv else 'No'}\")"
   ]
  },
  {
   "cell_type": "code",
   "execution_count": 10,
   "id": "468cafb5-e699-415d-be7d-89cee2efc9fa",
   "metadata": {},
   "outputs": [
    {
     "name": "stdout",
     "output_type": "stream",
     "text": [
      "Before:\n",
      "Statevector([0.+0.j, 0.+0.j, 0.+0.j, 0.+0.j, 1.+0.j, 0.+0.j, 0.+0.j,\n",
      "             0.+0.j],\n",
      "            dims=(2, 2, 2))\n",
      "After:\n",
      "Statevector([0.+0.j, 0.+0.j, 0.+0.j, 0.+0.j, 0.+0.j, 1.+0.j, 0.+0.j,\n",
      "             0.+0.j],\n",
      "            dims=(2, 2, 2))\n",
      "Are they equal? No\n"
     ]
    }
   ],
   "source": [
    "sv = Statevector.from_label('100')\n",
    "sv_before = sv\n",
    "print(f\"Before:\\n{sv_before}\")\n",
    "sv = sv.evolve(U_f_actl)\n",
    "print(f\"After:\\n{sv}\")\n",
    "print(f\"Are they equal? {'Yes' if sv_before == sv else 'No'}\")"
   ]
  },
  {
   "cell_type": "code",
   "execution_count": 11,
   "id": "8b2249cf-6c4e-446d-973c-0bd971d24865",
   "metadata": {},
   "outputs": [
    {
     "name": "stdout",
     "output_type": "stream",
     "text": [
      "Before:\n",
      "Statevector([0.+0.j, 0.+0.j, 0.+0.j, 0.+0.j, 0.+0.j, 1.+0.j, 0.+0.j,\n",
      "             0.+0.j],\n",
      "            dims=(2, 2, 2))\n",
      "After:\n",
      "Statevector([0.+0.j, 0.+0.j, 0.+0.j, 0.+0.j, 1.+0.j, 0.+0.j, 0.+0.j,\n",
      "             0.+0.j],\n",
      "            dims=(2, 2, 2))\n",
      "Are they equal? No\n"
     ]
    }
   ],
   "source": [
    "sv = Statevector.from_label('101')\n",
    "sv_before = sv\n",
    "print(f\"Before:\\n{sv_before}\")\n",
    "sv = sv.evolve(U_f_actl)\n",
    "print(f\"After:\\n{sv}\")\n",
    "print(f\"Are they equal? {'Yes' if sv_before == sv else 'No'}\")"
   ]
  },
  {
   "cell_type": "code",
   "execution_count": 12,
   "id": "f94e0d62-4d8e-4234-a359-f73a51754445",
   "metadata": {},
   "outputs": [
    {
     "name": "stdout",
     "output_type": "stream",
     "text": [
      "Before:\n",
      "Statevector([0.+0.j, 0.+0.j, 0.+0.j, 0.+0.j, 0.+0.j, 0.+0.j, 1.+0.j,\n",
      "             0.+0.j],\n",
      "            dims=(2, 2, 2))\n",
      "After:\n",
      "Statevector([0.+0.j, 0.+0.j, 0.+0.j, 0.+0.j, 0.+0.j, 0.+0.j, 1.+0.j,\n",
      "             0.+0.j],\n",
      "            dims=(2, 2, 2))\n",
      "Are they equal? Yes\n"
     ]
    }
   ],
   "source": [
    "sv = Statevector.from_label('110')\n",
    "sv_before = sv\n",
    "print(f\"Before:\\n{sv_before}\")\n",
    "sv = sv.evolve(U_f_actl)\n",
    "print(f\"After:\\n{sv}\")\n",
    "print(f\"Are they equal? {'Yes' if sv_before == sv else 'No'}\")"
   ]
  },
  {
   "cell_type": "code",
   "execution_count": 13,
   "id": "84b8fc64-8cf1-4f8a-8178-c7069fbe056f",
   "metadata": {},
   "outputs": [
    {
     "name": "stdout",
     "output_type": "stream",
     "text": [
      "Before:\n",
      "Statevector([0.+0.j, 0.+0.j, 0.+0.j, 0.+0.j, 0.+0.j, 0.+0.j, 0.+0.j,\n",
      "             1.+0.j],\n",
      "            dims=(2, 2, 2))\n",
      "After:\n",
      "Statevector([0.+0.j, 0.+0.j, 0.+0.j, 0.+0.j, 0.+0.j, 0.+0.j, 0.+0.j,\n",
      "             1.+0.j],\n",
      "            dims=(2, 2, 2))\n",
      "Are they equal? Yes\n"
     ]
    }
   ],
   "source": [
    "sv = Statevector.from_label('111')\n",
    "sv_before = sv\n",
    "print(f\"Before:\\n{sv_before}\")\n",
    "sv = sv.evolve(U_f_actl)\n",
    "print(f\"After:\\n{sv}\")\n",
    "print(f\"Are they equal? {'Yes' if sv_before == sv else 'No'}\")"
   ]
  },
  {
   "cell_type": "markdown",
   "id": "2c469652-41f4-4b96-8ec4-b3e0be76673c",
   "metadata": {},
   "source": [
    "# Conclusion"
   ]
  },
  {
   "cell_type": "markdown",
   "id": "4d96b1f6-a6fe-42af-b76b-c62513e3eeb8",
   "metadata": {},
   "source": [
    "It works! As expected, the output of the '**y**' qubit (here, q<sub>2</sub>) (*|y>*) is flipped ONLY when the '**x**' pair-of-qubits (here, q<sub>1</sub> and q<sub>0</sub>) (<i>|x><sup>(2)</sup></i>) is \"*2*\", a.k.a. \"*|10>*\" or \"*|1>|0>*\"."
   ]
  }
 ],
 "metadata": {
  "kernelspec": {
   "display_name": "Python 3 (ipykernel)",
   "language": "python",
   "name": "python3"
  },
  "language_info": {
   "codemirror_mode": {
    "name": "ipython",
    "version": 3
   },
   "file_extension": ".py",
   "mimetype": "text/x-python",
   "name": "python",
   "nbconvert_exporter": "python",
   "pygments_lexer": "ipython3",
   "version": "3.9.13"
  }
 },
 "nbformat": 4,
 "nbformat_minor": 5
}
