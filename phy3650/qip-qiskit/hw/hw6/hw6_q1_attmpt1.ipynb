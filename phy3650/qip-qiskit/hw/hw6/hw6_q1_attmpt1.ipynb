{
 "cells": [
  {
   "cell_type": "code",
   "execution_count": 4,
   "id": "2659351b-0b9d-4b96-bef8-ae3e30014fe8",
   "metadata": {},
   "outputs": [
    {
     "data": {
      "text/plain": [
       "<qiskit.circuit.instructionset.InstructionSet at 0x1e8f49beeb0>"
      ]
     },
     "execution_count": 4,
     "metadata": {},
     "output_type": "execute_result"
    }
   ],
   "source": [
    "import numpy as np\n",
    "from qiskit import QuantumCircuit\n",
    "from qiskit_aer import Aer\n",
    "from qiskit.quantum_info import Statevector, Operator\n",
    "Uf = QuantumCircuit(4)\n",
    "# Must have ancilla Qubits such that |01> \n",
    "# becomes either |00> or |11> then back to \n",
    "# |01>, while preserving |11> as |11> or |00> and \n",
    "# |00> as |00> or |11>\n",
    "# Ancilla Qubit always |0> initially\n",
    "# If x1 == 0, flip x2\n",
    "# Else, keep x1, x2 same\n",
    "# How to control x2 using x1 when x1=0? =>flip x1, immdly flip back => use X(x1) > CNOT(ctrl=x1,tgt=x2) > X(x1)\n",
    "# Run CX(0,2) -> CX(1,2)\n",
    "# This means that if we had x2=1, we need to flip y\n",
    "# So, store x2 in ancilla qubit via CX(1,3)\n",
    "# Apply CX(3,2)\n",
    "# Result:\n",
    "# x2=1,y=0:1 XOR 1 (y') = 0 (GOOD)\n",
    "# x2=1,y=1:1 XOR 0 (y') = 1 (GOOD; WE WANT \"y'\" TO STAY THE SAME IF \"x2\"=1 !!!)\n",
    "\n",
    "# Store x2=0,x2=1 in an ancilla qubit\n",
    "Uf.cx(1,3)\n",
    "\n",
    "# If x1=0, flip x2, so that |00(0/1)> would become |01(1/0)> (BAD) after a run without postprocessing ancilla bit modification and |01(0/1)> would vice versa become |00(0/1)> (OKAY)\n",
    "Uf.x(0)\n",
    "Uf.cx(0,1)\n",
    "Uf.x(0)\n",
    "\n",
    "# Run CX(0,2) > CX(1,2)\n",
    "Uf.cx(0,2)\n",
    "Uf.cx(1,2)\n",
    "\n",
    "# If the ancilla bit is 1, then it means x2 was 1, so we would need to flip y back\n",
    "Uf.cx(3,2)\n",
    "\n",
    "# Fix x2 back to what it was originally supposed to be\n",
    "Uf.cx(3,1)\n",
    "\n",
    "# Measure only the top 3 Qubits\n",
    "# Copy Uf into the version with classical bits for measurement the hard way\n",
    "measure_Uf = QuantumCircuit(4, 3)\n",
    "measure_Uf.cx(1,3)\n",
    "measure_Uf.x(0)\n",
    "measure_Uf.cx(0,1)\n",
    "measure_Uf.x(0)\n",
    "measure_Uf.cx(0,2)\n",
    "measure_Uf.cx(1,2)\n",
    "measure_Uf.cx(3,2)\n",
    "measure_Uf.cx(3,1)\n",
    "\n",
    "measure_Uf.measure(0,0)\n",
    "measure_Uf.measure(1,1)\n",
    "measure_Uf.measure(2,2)\n",
    "\n",
    "# (control_qubit, target_qubit, label=None, ctrl_state=None) (https://docs.quantum.ibm.com/api/qiskit/qiskit.circuit.QuantumCircuit#cx)"
   ]
  },
  {
   "cell_type": "code",
   "execution_count": 7,
   "id": "586cd8ef-ba12-43f5-b02c-ba543e5fa49e",
   "metadata": {},
   "outputs": [
    {
     "name": "stdout",
     "output_type": "stream",
     "text": [
      "     ┌───┐     ┌───┐                    \n",
      "q_0: ┤ X ├──■──┤ X ├──■─────────────────\n",
      "     └───┘┌─┴─┐└───┘  │            ┌───┐\n",
      "q_1: ──■──┤ X ├───────┼────■───────┤ X ├\n",
      "       │  └───┘     ┌─┴─┐┌─┴─┐┌───┐└─┬─┘\n",
      "q_2: ──┼────────────┤ X ├┤ X ├┤ X ├──┼──\n",
      "     ┌─┴─┐          └───┘└───┘└─┬─┘  │  \n",
      "q_3: ┤ X ├──────────────────────■────■──\n",
      "     └───┘                              \n",
      "     ┌───┐     ┌───┐          ┌─┐                \n",
      "q_0: ┤ X ├──■──┤ X ├──■───────┤M├────────────────\n",
      "     └───┘┌─┴─┐└───┘  │       └╥┘     ┌───┐   ┌─┐\n",
      "q_1: ──■──┤ X ├───────┼────■───╫──────┤ X ├───┤M├\n",
      "       │  └───┘     ┌─┴─┐┌─┴─┐ ║ ┌───┐└─┬─┘┌─┐└╥┘\n",
      "q_2: ──┼────────────┤ X ├┤ X ├─╫─┤ X ├──┼──┤M├─╫─\n",
      "     ┌─┴─┐          └───┘└───┘ ║ └─┬─┘  │  └╥┘ ║ \n",
      "q_3: ┤ X ├─────────────────────╫───■────■───╫──╫─\n",
      "     └───┘                     ║            ║  ║ \n",
      "c: 3/══════════════════════════╩════════════╩══╩═\n",
      "                               0            2  1 \n"
     ]
    }
   ],
   "source": [
    "print(Uf)\n",
    "print(measure_Uf)"
   ]
  },
  {
   "cell_type": "code",
   "execution_count": 8,
   "id": "1234f531-1c54-4495-8aa6-886eb35a2476",
   "metadata": {},
   "outputs": [
    {
     "name": "stdout",
     "output_type": "stream",
     "text": [
      "Operator([[0.+0.j, 0.+0.j, 0.+0.j, 0.+0.j, 0.+0.j, 0.+0.j, 0.+0.j, 0.+0.j,\n",
      "           0.+0.j, 0.+0.j, 1.+0.j, 0.+0.j, 0.+0.j, 0.+0.j, 0.+0.j, 0.+0.j],\n",
      "          [0.+0.j, 0.+0.j, 0.+0.j, 0.+0.j, 0.+0.j, 1.+0.j, 0.+0.j, 0.+0.j,\n",
      "           0.+0.j, 0.+0.j, 0.+0.j, 0.+0.j, 0.+0.j, 0.+0.j, 0.+0.j, 0.+0.j],\n",
      "          [0.+0.j, 0.+0.j, 0.+0.j, 0.+0.j, 1.+0.j, 0.+0.j, 0.+0.j, 0.+0.j,\n",
      "           0.+0.j, 0.+0.j, 0.+0.j, 0.+0.j, 0.+0.j, 0.+0.j, 0.+0.j, 0.+0.j],\n",
      "          [0.+0.j, 0.+0.j, 0.+0.j, 0.+0.j, 0.+0.j, 0.+0.j, 0.+0.j, 0.+0.j,\n",
      "           0.+0.j, 0.+0.j, 0.+0.j, 1.+0.j, 0.+0.j, 0.+0.j, 0.+0.j, 0.+0.j],\n",
      "          [0.+0.j, 0.+0.j, 0.+0.j, 0.+0.j, 0.+0.j, 0.+0.j, 0.+0.j, 0.+0.j,\n",
      "           0.+0.j, 0.+0.j, 0.+0.j, 0.+0.j, 0.+0.j, 0.+0.j, 1.+0.j, 0.+0.j],\n",
      "          [0.+0.j, 1.+0.j, 0.+0.j, 0.+0.j, 0.+0.j, 0.+0.j, 0.+0.j, 0.+0.j,\n",
      "           0.+0.j, 0.+0.j, 0.+0.j, 0.+0.j, 0.+0.j, 0.+0.j, 0.+0.j, 0.+0.j],\n",
      "          [1.+0.j, 0.+0.j, 0.+0.j, 0.+0.j, 0.+0.j, 0.+0.j, 0.+0.j, 0.+0.j,\n",
      "           0.+0.j, 0.+0.j, 0.+0.j, 0.+0.j, 0.+0.j, 0.+0.j, 0.+0.j, 0.+0.j],\n",
      "          [0.+0.j, 0.+0.j, 0.+0.j, 0.+0.j, 0.+0.j, 0.+0.j, 0.+0.j, 0.+0.j,\n",
      "           0.+0.j, 0.+0.j, 0.+0.j, 0.+0.j, 0.+0.j, 0.+0.j, 0.+0.j, 1.+0.j],\n",
      "          [0.+0.j, 0.+0.j, 0.+0.j, 0.+0.j, 0.+0.j, 0.+0.j, 0.+0.j, 0.+0.j,\n",
      "           1.+0.j, 0.+0.j, 0.+0.j, 0.+0.j, 0.+0.j, 0.+0.j, 0.+0.j, 0.+0.j],\n",
      "          [0.+0.j, 0.+0.j, 0.+0.j, 0.+0.j, 0.+0.j, 0.+0.j, 0.+0.j, 1.+0.j,\n",
      "           0.+0.j, 0.+0.j, 0.+0.j, 0.+0.j, 0.+0.j, 0.+0.j, 0.+0.j, 0.+0.j],\n",
      "          [0.+0.j, 0.+0.j, 0.+0.j, 0.+0.j, 0.+0.j, 0.+0.j, 1.+0.j, 0.+0.j,\n",
      "           0.+0.j, 0.+0.j, 0.+0.j, 0.+0.j, 0.+0.j, 0.+0.j, 0.+0.j, 0.+0.j],\n",
      "          [0.+0.j, 0.+0.j, 0.+0.j, 0.+0.j, 0.+0.j, 0.+0.j, 0.+0.j, 0.+0.j,\n",
      "           0.+0.j, 1.+0.j, 0.+0.j, 0.+0.j, 0.+0.j, 0.+0.j, 0.+0.j, 0.+0.j],\n",
      "          [0.+0.j, 0.+0.j, 0.+0.j, 0.+0.j, 0.+0.j, 0.+0.j, 0.+0.j, 0.+0.j,\n",
      "           0.+0.j, 0.+0.j, 0.+0.j, 0.+0.j, 1.+0.j, 0.+0.j, 0.+0.j, 0.+0.j],\n",
      "          [0.+0.j, 0.+0.j, 0.+0.j, 1.+0.j, 0.+0.j, 0.+0.j, 0.+0.j, 0.+0.j,\n",
      "           0.+0.j, 0.+0.j, 0.+0.j, 0.+0.j, 0.+0.j, 0.+0.j, 0.+0.j, 0.+0.j],\n",
      "          [0.+0.j, 0.+0.j, 1.+0.j, 0.+0.j, 0.+0.j, 0.+0.j, 0.+0.j, 0.+0.j,\n",
      "           0.+0.j, 0.+0.j, 0.+0.j, 0.+0.j, 0.+0.j, 0.+0.j, 0.+0.j, 0.+0.j],\n",
      "          [0.+0.j, 0.+0.j, 0.+0.j, 0.+0.j, 0.+0.j, 0.+0.j, 0.+0.j, 0.+0.j,\n",
      "           0.+0.j, 0.+0.j, 0.+0.j, 0.+0.j, 0.+0.j, 1.+0.j, 0.+0.j, 0.+0.j]],\n",
      "         input_dims=(2, 2, 2, 2), output_dims=(2, 2, 2, 2))\n"
     ]
    }
   ],
   "source": [
    "Uf_op = Operator(Uf)\n",
    "print(Uf_op)"
   ]
  },
  {
   "cell_type": "code",
   "execution_count": 9,
   "id": "bc91009b-c640-46d3-8b82-a7a9a41a2024",
   "metadata": {},
   "outputs": [],
   "source": [
    "# y_state_vec = Statevector.from_int(0, (2,1))  #DEBUG\n",
    "# print(y_state_vec)  #DEBUG"
   ]
  },
  {
   "cell_type": "code",
   "execution_count": 10,
   "id": "a2a892b3-75a2-49f1-bde9-068ee6aa3180",
   "metadata": {},
   "outputs": [
    {
     "data": {
      "text/plain": [
       "\"\\nIn order for the QC to work, it must have a truth tbl \\nof the form:\\n  x  |  y  |  x'  |  y'  \\n |0> | |0> | |0>  | |0>\\n |0> | |1> | |0>  | |1>\\n |1> | |0> | |1>  | |0>\\n |1> | |1> | |1>  | |1>\\n |2> | |0> | |2>  | |1>\\n |2> | |1> | |2>  | |0>\\n |3> | |0> | |3>  | |0>\\n |3> | |1> | |3>  | |1>\\n. Where x's two-Qubit computational basis of \\n  {|0>, |1>, |2>, |3>}\\nis equivalent to, in that order: \\n  {|00>, |01>, |10>, |11>} \\nand where a single Qubit is measured in the \\ncomp. bas. of: \\n  {|0>, |1>} \\n. Where\\n        (1)\\n  |0> = (0)\\n        (0)\\n  |1> = (1)\\n.\\n\\nLet us evaluate that, with Statevectors.:\\n\""
      ]
     },
     "execution_count": 10,
     "metadata": {},
     "output_type": "execute_result"
    }
   ],
   "source": [
    "\"\"\"\n",
    "In order for the QC to work, it must have a truth tbl \n",
    "of the form:\n",
    "  x  |  y  |  x'  |  y'  \n",
    " |0> | |0> | |0>  | |0>\n",
    " |0> | |1> | |0>  | |1>\n",
    " |1> | |0> | |1>  | |0>\n",
    " |1> | |1> | |1>  | |1>\n",
    " |2> | |0> | |2>  | |1>\n",
    " |2> | |1> | |2>  | |0>\n",
    " |3> | |0> | |3>  | |0>\n",
    " |3> | |1> | |3>  | |1>\n",
    ". Where x's two-Qubit computational basis of \n",
    "  {|0>, |1>, |2>, |3>}\n",
    "is equivalent to, in that order: \n",
    "  {|00>, |01>, |10>, |11>} \n",
    "and where a single Qubit is measured in the \n",
    "comp. bas. of: \n",
    "  {|0>, |1>} \n",
    ". Where\n",
    "        (1)\n",
    "  |0> = (0)\n",
    "        (0)\n",
    "  |1> = (1)\n",
    ".\n",
    "\n",
    "Let us evaluate that, with Statevectors.:\n",
    "\"\"\""
   ]
  },
  {
   "cell_type": "code",
   "execution_count": 11,
   "id": "14984470-bec7-4f44-9ba2-c38086c2bb7a",
   "metadata": {},
   "outputs": [],
   "source": [
    "# test_sv = Statevector.from_int(2, (4,1)) #DEBUG\n",
    "# print(test_sv)#DEBUG\n",
    "# x2_tensor_producted_with_y0 = test_sv.tensor(y_state_vec)\n",
    "# print(x2_tensor_producted_with_y0)"
   ]
  },
  {
   "cell_type": "code",
   "execution_count": 12,
   "id": "1629780e-9c37-4eeb-9abe-be3adaec6a9c",
   "metadata": {},
   "outputs": [
    {
     "data": {
      "text/plain": [
       "<qiskit.circuit.instructionset.InstructionSet at 0x1e8f4932c10>"
      ]
     },
     "execution_count": 12,
     "metadata": {},
     "output_type": "execute_result"
    }
   ],
   "source": [
    "Uf_nicer_for_sv_checks = Uf.copy()\n",
    "\n",
    "# Flip the ancilla qubit back to 0\n",
    "Uf.cx(1,3)"
   ]
  },
  {
   "cell_type": "code",
   "execution_count": 13,
   "id": "7e16da94-d6b8-4aac-be7c-2f7b58ce5897",
   "metadata": {},
   "outputs": [
    {
     "name": "stdout",
     "output_type": "stream",
     "text": [
      "Before:\n",
      "Statevector([1.+0.j, 0.+0.j, 0.+0.j, 0.+0.j, 0.+0.j, 0.+0.j, 0.+0.j,\n",
      "             0.+0.j, 0.+0.j, 0.+0.j, 0.+0.j, 0.+0.j, 0.+0.j, 0.+0.j,\n",
      "             0.+0.j, 0.+0.j],\n",
      "            dims=(2, 2, 2, 2))\n",
      "After:\n",
      "Statevector([0.+0.j, 0.+0.j, 0.+0.j, 0.+0.j, 0.+0.j, 0.+0.j, 1.+0.j,\n",
      "             0.+0.j, 0.+0.j, 0.+0.j, 0.+0.j, 0.+0.j, 0.+0.j, 0.+0.j,\n",
      "             0.+0.j, 0.+0.j],\n",
      "            dims=(2, 2, 2, 2))\n",
      "Are they equal? No\n"
     ]
    }
   ],
   "source": [
    "# new_sv = Statevector.from_int(0, (4,1)).tensor(y_state_vec)  # if you recall, this was |000>, which is equiv to: |00> in the comp. bas. shown (in the trth. tbl.) \n",
    "new_sv = Statevector.from_label('0000')\n",
    "sv_bef = new_sv  # sv_bef = Statevector BEFORE transformation by running thru the crct\n",
    "print(f\"Before:\\n{new_sv}\")\n",
    "new_sv = new_sv.evolve(Uf_nicer_for_sv_checks)\n",
    "print(f\"After:\\n{new_sv}\")\n",
    "print(f\"Are they equal? {'Yes' if sv_bef == new_sv else 'No'}\")"
   ]
  },
  {
   "cell_type": "code",
   "execution_count": 39,
   "id": "e07b03e5-9deb-43a1-b718-813f37f455a0",
   "metadata": {},
   "outputs": [
    {
     "name": "stdout",
     "output_type": "stream",
     "text": [
      "Before:\n",
      "Statevector([0.+0.j, 1.+0.j, 0.+0.j, 0.+0.j, 0.+0.j, 0.+0.j, 0.+0.j,\n",
      "             0.+0.j],\n",
      "            dims=(2, 2, 2))\n",
      "After:\n",
      "Statevector([0.+0.j, 0.+0.j, 0.+0.j, 0.+0.j, 0.+0.j, 1.+0.j, 0.+0.j,\n",
      "             0.+0.j],\n",
      "            dims=(2, 2, 2))\n",
      "Are they equal? No\n"
     ]
    }
   ],
   "source": [
    "new_sv = Statevector.from_label('0010')  # equiv to |01>\n",
    "sv_bef = new_sv  # sv_bef = Statevector BEFORE transformation by running thru the crct\n",
    "print(f\"Before:\\n{new_sv}\")\n",
    "new_sv = new_sv.evolve(Uf_nicer_for_sv_checks)\n",
    "print(f\"After:\\n{new_sv}\")\n",
    "print(f\"Are they equal? {'Yes' if sv_bef == new_sv else 'No'}\")"
   ]
  },
  {
   "cell_type": "code",
   "execution_count": 40,
   "id": "2bb2c447-c57f-443e-8ef6-92a369a86fa7",
   "metadata": {},
   "outputs": [
    {
     "name": "stdout",
     "output_type": "stream",
     "text": [
      "Before:\n",
      "Statevector([0.+0.j, 0.+0.j, 1.+0.j, 0.+0.j, 0.+0.j, 0.+0.j, 0.+0.j,\n",
      "             0.+0.j],\n",
      "            dims=(2, 2, 2))\n",
      "After:\n",
      "Statevector([0.+0.j, 0.+0.j, 1.+0.j, 0.+0.j, 0.+0.j, 0.+0.j, 0.+0.j,\n",
      "             0.+0.j],\n",
      "            dims=(2, 2, 2))\n",
      "Are they equal? Yes\n"
     ]
    }
   ],
   "source": [
    "new_sv = Statevector.from_label('0100')  # equiv to |10>\n",
    "sv_bef = new_sv  # sv_bef = Statevector BEFORE transformation by running thru the crct\n",
    "print(f\"Before:\\n{new_sv}\")\n",
    "new_sv = new_sv.evolve(Uf_nicer_for_sv_checks)\n",
    "print(f\"After:\\n{new_sv}\")\n",
    "print(f\"Are they equal? {'Yes' if sv_bef == new_sv else 'No'}\")"
   ]
  },
  {
   "cell_type": "code",
   "execution_count": 41,
   "id": "8dd8c1e3-bc27-451c-a2cb-5d5b053d74fa",
   "metadata": {},
   "outputs": [
    {
     "name": "stdout",
     "output_type": "stream",
     "text": [
      "Before:\n",
      "Statevector([0.+0.j, 0.+0.j, 0.+0.j, 1.+0.j, 0.+0.j, 0.+0.j, 0.+0.j,\n",
      "             0.+0.j],\n",
      "            dims=(2, 2, 2))\n",
      "After:\n",
      "Statevector([0.+0.j, 0.+0.j, 0.+0.j, 0.+0.j, 0.+0.j, 0.+0.j, 0.+0.j,\n",
      "             1.+0.j],\n",
      "            dims=(2, 2, 2))\n",
      "Are they equal? No\n"
     ]
    }
   ],
   "source": [
    "new_sv = Statevector.from_label('0110')  # equiv to |11>\n",
    "sv_bef = new_sv  # sv_bef = Statevector BEFORE transformation by running thru the crct\n",
    "print(f\"Before:\\n{new_sv}\")\n",
    "new_sv = new_sv.evolve(Uf_nicer_for_sv_checks)\n",
    "print(f\"After:\\n{new_sv}\")\n",
    "print(f\"Are they equal? {'Yes' if sv_bef == new_sv else 'No'}\")"
   ]
  },
  {
   "cell_type": "code",
   "execution_count": 42,
   "id": "0869f697-89bf-4c5e-b4b6-2059927bc249",
   "metadata": {},
   "outputs": [
    {
     "name": "stdout",
     "output_type": "stream",
     "text": [
      "Before:\n",
      "Statevector([0.+0.j, 0.+0.j, 0.+0.j, 0.+0.j, 1.+0.j, 0.+0.j, 0.+0.j,\n",
      "             0.+0.j],\n",
      "            dims=(2, 2, 2))\n",
      "After:\n",
      "Statevector([0.+0.j, 0.+0.j, 0.+0.j, 0.+0.j, 1.+0.j, 0.+0.j, 0.+0.j,\n",
      "             0.+0.j],\n",
      "            dims=(2, 2, 2))\n",
      "Are they equal? Yes\n"
     ]
    }
   ],
   "source": [
    "new_sv = Statevector.from_label('1000')  # equiv to |20>\n",
    "sv_bef = new_sv  # sv_bef = Statevector BEFORE transformation by running thru the crct\n",
    "print(f\"Before:\\n{new_sv}\")\n",
    "new_sv = new_sv.evolve(Uf_nicer_for_sv_checks)\n",
    "print(f\"After:\\n{new_sv}\")\n",
    "print(f\"Are they equal? {'Yes' if sv_bef == new_sv else 'No'}\")"
   ]
  },
  {
   "cell_type": "code",
   "execution_count": 43,
   "id": "a550a36a-bc5b-4b1a-814b-b7acb1f9a906",
   "metadata": {},
   "outputs": [
    {
     "name": "stdout",
     "output_type": "stream",
     "text": [
      "Before:\n",
      "Statevector([0.+0.j, 0.+0.j, 0.+0.j, 0.+0.j, 0.+0.j, 1.+0.j, 0.+0.j,\n",
      "             0.+0.j],\n",
      "            dims=(2, 2, 2))\n",
      "After:\n",
      "Statevector([0.+0.j, 1.+0.j, 0.+0.j, 0.+0.j, 0.+0.j, 0.+0.j, 0.+0.j,\n",
      "             0.+0.j],\n",
      "            dims=(2, 2, 2))\n",
      "Are they equal? No\n"
     ]
    }
   ],
   "source": [
    "new_sv = Statevector.from_label('1010')  # equiv to |21>\n",
    "sv_bef = new_sv  # sv_bef = Statevector BEFORE transformation by running thru the crct\n",
    "print(f\"Before:\\n{new_sv}\")\n",
    "new_sv = new_sv.evolve(Uf_nicer_for_sv_checks)\n",
    "print(f\"After:\\n{new_sv}\")\n",
    "print(f\"Are they equal? {'Yes' if sv_bef == new_sv else 'No'}\")"
   ]
  },
  {
   "cell_type": "code",
   "execution_count": 44,
   "id": "ae75ea8c-04b8-45e7-b346-b87334469703",
   "metadata": {},
   "outputs": [
    {
     "name": "stdout",
     "output_type": "stream",
     "text": [
      "Before:\n",
      "Statevector([0.+0.j, 0.+0.j, 0.+0.j, 0.+0.j, 0.+0.j, 0.+0.j, 1.+0.j,\n",
      "             0.+0.j],\n",
      "            dims=(2, 2, 2))\n",
      "After:\n",
      "Statevector([0.+0.j, 0.+0.j, 0.+0.j, 0.+0.j, 0.+0.j, 0.+0.j, 1.+0.j,\n",
      "             0.+0.j],\n",
      "            dims=(2, 2, 2))\n",
      "Are they equal? Yes\n"
     ]
    }
   ],
   "source": [
    "new_sv = Statevector.from_label('1100')  # equiv to |30>\n",
    "sv_bef = new_sv  # sv_bef = Statevector BEFORE transformation by running thru the crct\n",
    "print(f\"Before:\\n{new_sv}\")\n",
    "new_sv = new_sv.evolve(Uf_nicer_for_sv_checks)\n",
    "print(f\"After:\\n{new_sv}\")\n",
    "print(f\"Are they equal? {'Yes' if sv_bef == new_sv else 'No'}\")"
   ]
  },
  {
   "cell_type": "code",
   "execution_count": 45,
   "id": "6a21a29f-ba2d-446b-a908-7d80d2d6f95a",
   "metadata": {},
   "outputs": [
    {
     "name": "stdout",
     "output_type": "stream",
     "text": [
      "Before:\n",
      "Statevector([0.+0.j, 0.+0.j, 0.+0.j, 0.+0.j, 0.+0.j, 0.+0.j, 0.+0.j,\n",
      "             1.+0.j],\n",
      "            dims=(2, 2, 2))\n",
      "After:\n",
      "Statevector([0.+0.j, 0.+0.j, 0.+0.j, 1.+0.j, 0.+0.j, 0.+0.j, 0.+0.j,\n",
      "             0.+0.j],\n",
      "            dims=(2, 2, 2))\n",
      "Are they equal? No\n"
     ]
    }
   ],
   "source": [
    "new_sv = Statevector.from_label('1110')  # equiv to |31>\n",
    "sv_bef = new_sv  # sv_bef = Statevector BEFORE transformation by running thru the crct\n",
    "print(f\"Before:\\n{new_sv}\")\n",
    "new_sv = new_sv.evolve(Uf_nicer_for_sv_checks)\n",
    "print(f\"After:\\n{new_sv}\")\n",
    "print(f\"Are they equal? {'Yes' if sv_bef == new_sv else 'No'}\")"
   ]
  },
  {
   "cell_type": "code",
   "execution_count": null,
   "id": "17b69b1f-7086-4126-a0d7-f1da7f534ef7",
   "metadata": {},
   "outputs": [],
   "source": []
  }
 ],
 "metadata": {
  "kernelspec": {
   "display_name": "Python 3 (ipykernel)",
   "language": "python",
   "name": "python3"
  },
  "language_info": {
   "codemirror_mode": {
    "name": "ipython",
    "version": 3
   },
   "file_extension": ".py",
   "mimetype": "text/x-python",
   "name": "python",
   "nbconvert_exporter": "python",
   "pygments_lexer": "ipython3",
   "version": "3.9.13"
  }
 },
 "nbformat": 4,
 "nbformat_minor": 5
}
